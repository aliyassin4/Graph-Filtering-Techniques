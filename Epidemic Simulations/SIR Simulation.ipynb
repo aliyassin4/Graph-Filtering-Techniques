{
 "cells": [
  {
   "cell_type": "code",
   "execution_count": 1,
   "id": "29df283c",
   "metadata": {},
   "outputs": [],
   "source": [
    "import matplotlib.pyplot as plt\n",
    "import networkx as nx\n",
    "import pandas as pd\n",
    "import numpy as np\n",
    "import EoN"
   ]
  },
  {
   "cell_type": "code",
   "execution_count": 2,
   "id": "ac359c5c",
   "metadata": {},
   "outputs": [],
   "source": [
    "#read edge list from csv file\n",
    "edges_list = pd.read_csv('../Datasets/lesmis.csv')\n",
    "\n",
    "#create graph from the edge list\n",
    "original_G = nx.from_pandas_edgelist(edges_list, edge_attr='weight', create_using=nx.Graph())\n",
    "\n",
    "#convert the graph into a directed graph\n",
    "G = original_G.to_directed()"
   ]
  },
  {
   "cell_type": "code",
   "execution_count": 3,
   "id": "e296f066",
   "metadata": {},
   "outputs": [],
   "source": [
    "#calculate strength for the nodes\n",
    "node_strength = {node : sum([G[u][v]['weight'] for u,v in G.edges(node)]) for node in G.nodes()}\n",
    "\n",
    "#add strength attribute for each node\n",
    "nx.set_node_attributes(G, node_strength, name=\"strength\")"
   ]
  },
  {
   "cell_type": "code",
   "execution_count": 4,
   "id": "08e891d2",
   "metadata": {},
   "outputs": [],
   "source": [
    "#calculate the normalized weight for each edge\n",
    "normalized_weight = {(u,v): G[u][v]['weight']/G.nodes[u]['strength'] for u, v in G.edges()}\n",
    "\n",
    "#add the normalized weight attribute for each edge\n",
    "nx.set_edge_attributes(G, normalized_weight, name=\"w/s\")"
   ]
  },
  {
   "cell_type": "code",
   "execution_count": 5,
   "id": "12604cc4",
   "metadata": {},
   "outputs": [],
   "source": [
    "#extract the degrees of the network\n",
    "degrees = [original_G.degree(n) for n in original_G.nodes()]\n",
    "    \n",
    "#calculte the average degree i.e the first moment\n",
    "first_moment = np.average(degrees)\n",
    "    \n",
    "#calculate the variance of the degrees i.e the second moment\n",
    "x = 0\n",
    "for i in range(len(degrees)):\n",
    "    x = x + degrees[i]**2\n",
    "second_moment = x / len(degrees)\n",
    "    \n",
    "#calculate the epidemic threshold using the first and the second degree\n",
    "epidemic_thresh = first_moment / (second_moment - first_moment)\n",
    "    \n",
    "#set the number of simulations, infection, and recovery rate for the sir model\n",
    "nb_simulations = 100000\n",
    "tau = epidemic_thresh\n",
    "gamma = 0.01"
   ]
  },
  {
   "cell_type": "code",
   "execution_count": 6,
   "id": "0946a866",
   "metadata": {},
   "outputs": [],
   "source": [
    "#define the simulation trees dictionary\n",
    "simulation_trees = {}\n",
    "\n",
    "#simulate the epidemic nb_simulations times\n",
    "for i in range(nb_simulations):\n",
    "    \n",
    "    #run the simulatin with the defined infection, recovery rate, and the normalized weight as the transmission weight\n",
    "    sim = EoN.fast_SIR(G, tau, gamma, transmission_weight='w/s', return_full_data=True)\n",
    "    \n",
    "    #extract the transmission tree from the simulation result\n",
    "    simulation_trees[i] = sim.transmission_tree()\n",
    "\n",
    "    #visualize the transmission tree\n",
    "    # Tpos = EoN.hierarchy_pos(T)\n",
    "    # fig = plt.figure(figsize = (8,5))\n",
    "    # ax = fig.add_subplot(111)\n",
    "    # nx.draw(T, Tpos, ax=ax, node_size = 200, with_labels=True)\n",
    "    # plt.show()"
   ]
  },
  {
   "cell_type": "code",
   "execution_count": 7,
   "id": "3f423d54",
   "metadata": {},
   "outputs": [],
   "source": [
    "#set a new edge attribute for counting the infection participation\n",
    "nx.set_edge_attributes(G, 0, name=\"infection_participation\")\n",
    "\n",
    "#count the infection paritcipation for each edge\n",
    "for sim in simulation_trees:\n",
    "    tree = simulation_trees[sim]\n",
    "    for u, v in tree.edges():\n",
    "        G[u][v]['infection_participation'] = G[u][v]['infection_participation'] + 1"
   ]
  },
  {
   "cell_type": "code",
   "execution_count": 8,
   "id": "18d705e5",
   "metadata": {},
   "outputs": [],
   "source": [
    "#set a new edge attribute for counting the infection participation\n",
    "nx.set_edge_attributes(original_G, 0, name=\"infection_participation\")\n",
    "\n",
    "#add the results to the original graph\n",
    "for u, v in original_G.edges():\n",
    "    original_G[u][v]['infection_participation'] = (G[u][v]['infection_participation'] + G[v][u]['infection_participation'])/nb_simulations"
   ]
  },
  {
   "cell_type": "code",
   "execution_count": 12,
   "id": "28e68646",
   "metadata": {},
   "outputs": [],
   "source": [
    "#create an edge list from the result graph with the infection participation values\n",
    "results = nx.to_pandas_edgelist(original_G)\n",
    "\n",
    "#save the edge list to visualize later\n",
    "results.to_csv('../Results/Epidemic Simulations Resutls/lesmis_epidemic_simulations.csv', index=False)"
   ]
  },
  {
   "cell_type": "code",
   "execution_count": null,
   "id": "dd640d23",
   "metadata": {},
   "outputs": [],
   "source": []
  }
 ],
 "metadata": {
  "kernelspec": {
   "display_name": "Python 3 (ipykernel)",
   "language": "python",
   "name": "python3"
  },
  "language_info": {
   "codemirror_mode": {
    "name": "ipython",
    "version": 3
   },
   "file_extension": ".py",
   "mimetype": "text/x-python",
   "name": "python",
   "nbconvert_exporter": "python",
   "pygments_lexer": "ipython3",
   "version": "3.7.7"
  }
 },
 "nbformat": 4,
 "nbformat_minor": 5
}

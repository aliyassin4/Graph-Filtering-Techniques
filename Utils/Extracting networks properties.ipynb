{
 "cells": [
  {
   "cell_type": "code",
   "execution_count": 2,
   "id": "50d01467",
   "metadata": {},
   "outputs": [],
   "source": [
    "import pandas as pd\n",
    "import networkx as nx"
   ]
  },
  {
   "cell_type": "code",
   "execution_count": 13,
   "id": "248d0859",
   "metadata": {},
   "outputs": [],
   "source": [
    "def process_network(path):\n",
    "    #load network\n",
    "    #G = nx.read_weighted_edgelist(path, create_using=nx.DiGraph)\n",
    "    G = nx.read_graphml(path)\n",
    "    \n",
    "    #remove self loops\n",
    "    selfloops = nx.selfloop_edges(G)\n",
    "    print(\"Removed \" + str(len(list(selfloops))) + \"Selfloops\")\n",
    "    G.remove_edges_from(selfloops)\n",
    "    \n",
    "    #convert to undirected\n",
    "    UG = G.to_undirected()\n",
    "    ucount = 0\n",
    "    for node in G:\n",
    "        for ngbr in nx.neighbors(G, node):\n",
    "            if node in nx.neighbors(G, ngbr):\n",
    "                #print(ngbr,node)\n",
    "                ucount = ucount + 1\n",
    "                UG.edges[node, ngbr]['weight'] = (\n",
    "                    G.edges[node, ngbr]['weight'] + G.edges[ngbr, node]['weight']\n",
    "                )\n",
    "    print(\"Found \" + str(ucount/2) + \" Directed Edges\")\n",
    "    \n",
    "    #take the largest connected component\n",
    "    ccount = nx.number_connected_components(UG)\n",
    "    largest_cc = max(nx.connected_components(UG), key=len)\n",
    "    UG = UG.subgraph(largest_cc)\n",
    "    print(\"Found \" + str(ccount) + \" Connected Components\")\n",
    "    print(\"\\nThe largest connected components has \" + str(len(largest_cc)) + \" nodes and \" + str(len(UG.edges())))\n",
    "    \n",
    "    #return undirected network\n",
    "    return UG"
   ]
  },
  {
   "cell_type": "code",
   "execution_count": 14,
   "id": "57bebae0",
   "metadata": {},
   "outputs": [],
   "source": [
    "network_properties = pd.DataFrame(index = ['# Nodes', '# Edges', 'Average Degree', 'Density', 'Assortativity', 'Diameter', 'Average Clustering'])"
   ]
  },
  {
   "cell_type": "code",
   "execution_count": 15,
   "id": "d85d3d06",
   "metadata": {},
   "outputs": [],
   "source": [
    "network = 'airports'\n",
    "path = '../Datasets/' + network + '.graphml'"
   ]
  },
  {
   "cell_type": "code",
   "execution_count": 16,
   "id": "123cea8d",
   "metadata": {},
   "outputs": [
    {
     "name": "stdout",
     "output_type": "stream",
     "text": [
      "Removed 0Selfloops\n",
      "Found 16665.0 Directed Edges\n",
      "Found 1 Connected Components\n",
      "\n",
      "The largest connected components has 2734 nodes and 16665\n"
     ]
    }
   ],
   "source": [
    "G = process_network(path)"
   ]
  },
  {
   "cell_type": "code",
   "execution_count": 17,
   "id": "c726eb44",
   "metadata": {},
   "outputs": [],
   "source": [
    "#nx.to_pandas_edgelist(G).to_csv( network+'.csv', index=False)"
   ]
  },
  {
   "cell_type": "code",
   "execution_count": 18,
   "id": "54fc1834",
   "metadata": {},
   "outputs": [],
   "source": [
    "properties = dict()\n",
    "\n",
    "properties['# Nodes'] = len(G)\n",
    "properties['# Edges'] = len(G.edges())\n",
    "properties['Average Degree'] = round(sum([k for u,k in G.degree()])/len(G), 3)\n",
    "properties['Density'] = round((2*len(G.edges()))/(len(G.nodes())*(len(G.nodes())-1)), 3)\n",
    "properties['Assortativity'] = round(nx.degree_assortativity_coefficient(G), 3)\n",
    "properties['Diameter'] = nx.diameter(G)\n",
    "properties['Average Clustering'] = round(nx.average_clustering(G), 3)"
   ]
  },
  {
   "cell_type": "code",
   "execution_count": 19,
   "id": "5f107e6d",
   "metadata": {},
   "outputs": [],
   "source": [
    "network_properties[network] = properties.values()"
   ]
  },
  {
   "cell_type": "code",
   "execution_count": 20,
   "id": "d7d27e9d",
   "metadata": {},
   "outputs": [
    {
     "data": {
      "text/html": [
       "<div>\n",
       "<style scoped>\n",
       "    .dataframe tbody tr th:only-of-type {\n",
       "        vertical-align: middle;\n",
       "    }\n",
       "\n",
       "    .dataframe tbody tr th {\n",
       "        vertical-align: top;\n",
       "    }\n",
       "\n",
       "    .dataframe thead th {\n",
       "        text-align: right;\n",
       "    }\n",
       "</style>\n",
       "<table border=\"1\" class=\"dataframe\">\n",
       "  <thead>\n",
       "    <tr style=\"text-align: right;\">\n",
       "      <th></th>\n",
       "      <th># Nodes</th>\n",
       "      <th># Edges</th>\n",
       "      <th>Average Degree</th>\n",
       "      <th>Density</th>\n",
       "      <th>Assortativity</th>\n",
       "      <th>Diameter</th>\n",
       "      <th>Average Clustering</th>\n",
       "    </tr>\n",
       "  </thead>\n",
       "  <tbody>\n",
       "    <tr>\n",
       "      <th>airports</th>\n",
       "      <td>2734.0</td>\n",
       "      <td>16665.0</td>\n",
       "      <td>12.191</td>\n",
       "      <td>0.004</td>\n",
       "      <td>-0.047</td>\n",
       "      <td>12.0</td>\n",
       "      <td>0.464</td>\n",
       "    </tr>\n",
       "  </tbody>\n",
       "</table>\n",
       "</div>"
      ],
      "text/plain": [
       "          # Nodes  # Edges  Average Degree  Density  Assortativity  Diameter  \\\n",
       "airports   2734.0  16665.0          12.191    0.004         -0.047      12.0   \n",
       "\n",
       "          Average Clustering  \n",
       "airports               0.464  "
      ]
     },
     "execution_count": 20,
     "metadata": {},
     "output_type": "execute_result"
    }
   ],
   "source": [
    "network_properties.T"
   ]
  },
  {
   "cell_type": "code",
   "execution_count": null,
   "id": "f957fc32",
   "metadata": {},
   "outputs": [],
   "source": []
  }
 ],
 "metadata": {
  "interpreter": {
   "hash": "23f0df36b9e21e5efa1e1be1bbc2654d2921f1d64451a6633a1922d70ec111e6"
  },
  "kernelspec": {
   "display_name": "Python [conda env:python3.7.7-env]",
   "language": "python",
   "name": "python3"
  },
  "language_info": {
   "codemirror_mode": {
    "name": "ipython",
    "version": 3
   },
   "file_extension": ".py",
   "mimetype": "text/x-python",
   "name": "python",
   "nbconvert_exporter": "python",
   "pygments_lexer": "ipython3",
   "version": "3.7.7"
  }
 },
 "nbformat": 4,
 "nbformat_minor": 5
}

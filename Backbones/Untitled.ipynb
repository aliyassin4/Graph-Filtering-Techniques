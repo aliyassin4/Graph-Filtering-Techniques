{
 "cells": [
  {
   "cell_type": "markdown",
   "id": "cc41d69d",
   "metadata": {},
   "source": [
    "# Import Libraries"
   ]
  },
  {
   "cell_type": "code",
   "execution_count": 1,
   "id": "d944b8db",
   "metadata": {},
   "outputs": [],
   "source": [
    "import networkx as nx\n",
    "import numpy as np\n",
    "import pandas as pd\n",
    "from scipy import integrate\n",
    "import timeit"
   ]
  },
  {
   "cell_type": "markdown",
   "id": "43f002e0",
   "metadata": {},
   "source": [
    "# Create Graph From Data Source"
   ]
  },
  {
   "cell_type": "markdown",
   "id": "21d04b66",
   "metadata": {},
   "source": [
    "but we need to create a dataframe later"
   ]
  },
  {
   "cell_type": "code",
   "execution_count": 2,
   "id": "7047246a",
   "metadata": {},
   "outputs": [],
   "source": [
    "edge_list = pd.read_csv('../Datasets/got.csv')\n",
    "G = nx.from_pandas_edgelist(edge_list, edge_attr='weight')"
   ]
  },
  {
   "cell_type": "markdown",
   "id": "ce7dc84d",
   "metadata": {},
   "source": [
    "# Define Backbone Function"
   ]
  },
  {
   "cell_type": "code",
   "execution_count": 3,
   "id": "0d6221c6",
   "metadata": {},
   "outputs": [],
   "source": [
    "from numba import jit\n",
    "\n",
    "def disparity_filter(G, weight='weight'):    \n",
    "    B = nx.Graph()\n",
    "    for u in G:\n",
    "        k = len(G[u])\n",
    "        if k > 1:\n",
    "            sum_w = sum(np.absolute(G[u][v][weight]) for v in G[u])\n",
    "            for v in G[u]:\n",
    "                w = G[u][v][weight]\n",
    "                p_ij = float(np.absolute(w))/sum_w\n",
    "                alpha_ij = 1 - (k-1) * integrate.quad(lambda x: (1-x)**(k-2), 0, p_ij)[0]\n",
    "                B.add_edge(u, v, weight = w, alpha=float(alpha_ij))#float('%.4f' % alpha_ij)\n",
    "    return B\n"
   ]
  },
  {
   "cell_type": "markdown",
   "id": "eb73be1c",
   "metadata": {},
   "source": [
    "# Use Backbone Function to Assign P-values or Scores"
   ]
  },
  {
   "cell_type": "code",
   "execution_count": 4,
   "id": "0cfed4b8",
   "metadata": {},
   "outputs": [
    {
     "name": "stdout",
     "output_type": "stream",
     "text": [
      "12.5 ms ± 36.4 µs per loop (mean ± std. dev. of 7 runs, 100 loops each)\n"
     ]
    }
   ],
   "source": [
    "\n",
    "%timeit disparity_filter(G)\n",
    "backbone = disparity_filter(G)\n",
    "\n",
    "\n",
    "#print(\"--- %s seconds ---\" % (time.time() - start_time))"
   ]
  },
  {
   "cell_type": "markdown",
   "id": "798b2eeb",
   "metadata": {},
   "source": [
    "Convert graph to dataframe because its more flexible to deal with"
   ]
  },
  {
   "cell_type": "code",
   "execution_count": null,
   "id": "e364d9e9",
   "metadata": {},
   "outputs": [],
   "source": []
  },
  {
   "cell_type": "code",
   "execution_count": 5,
   "id": "a9e0c5d8",
   "metadata": {},
   "outputs": [],
   "source": [
    "backbone = nx.to_pandas_edgelist(backbone)"
   ]
  },
  {
   "cell_type": "markdown",
   "id": "2c10d472",
   "metadata": {},
   "source": [
    "# Filter edges using a threshold"
   ]
  },
  {
   "cell_type": "code",
   "execution_count": 6,
   "id": "43ae0882",
   "metadata": {},
   "outputs": [
    {
     "data": {
      "text/html": [
       "<div>\n",
       "<style scoped>\n",
       "    .dataframe tbody tr th:only-of-type {\n",
       "        vertical-align: middle;\n",
       "    }\n",
       "\n",
       "    .dataframe tbody tr th {\n",
       "        vertical-align: top;\n",
       "    }\n",
       "\n",
       "    .dataframe thead th {\n",
       "        text-align: right;\n",
       "    }\n",
       "</style>\n",
       "<table border=\"1\" class=\"dataframe\">\n",
       "  <thead>\n",
       "    <tr style=\"text-align: right;\">\n",
       "      <th></th>\n",
       "      <th>source</th>\n",
       "      <th>target</th>\n",
       "      <th>weight</th>\n",
       "      <th>alpha</th>\n",
       "    </tr>\n",
       "  </thead>\n",
       "  <tbody>\n",
       "    <tr>\n",
       "      <th>112</th>\n",
       "      <td>Jaime</td>\n",
       "      <td>Brienne</td>\n",
       "      <td>88</td>\n",
       "      <td>0.000469</td>\n",
       "    </tr>\n",
       "    <tr>\n",
       "      <th>134</th>\n",
       "      <td>Tyrion</td>\n",
       "      <td>Sansa</td>\n",
       "      <td>77</td>\n",
       "      <td>0.003657</td>\n",
       "    </tr>\n",
       "    <tr>\n",
       "      <th>184</th>\n",
       "      <td>Arya</td>\n",
       "      <td>Sandor</td>\n",
       "      <td>46</td>\n",
       "      <td>0.007376</td>\n",
       "    </tr>\n",
       "  </tbody>\n",
       "</table>\n",
       "</div>"
      ],
      "text/plain": [
       "     source   target  weight     alpha\n",
       "112   Jaime  Brienne      88  0.000469\n",
       "134  Tyrion    Sansa      77  0.003657\n",
       "184    Arya   Sandor      46  0.007376"
      ]
     },
     "execution_count": 6,
     "metadata": {},
     "output_type": "execute_result"
    }
   ],
   "source": [
    "threshold = 0.01\n",
    "backbone[backbone['alpha'] < threshold]"
   ]
  },
  {
   "cell_type": "markdown",
   "id": "956aa9d2",
   "metadata": {},
   "source": [
    "# Filter edges preserving a fraction of edges"
   ]
  },
  {
   "cell_type": "code",
   "execution_count": 7,
   "id": "06e9cc34",
   "metadata": {},
   "outputs": [
    {
     "data": {
      "text/html": [
       "<div>\n",
       "<style scoped>\n",
       "    .dataframe tbody tr th:only-of-type {\n",
       "        vertical-align: middle;\n",
       "    }\n",
       "\n",
       "    .dataframe tbody tr th {\n",
       "        vertical-align: top;\n",
       "    }\n",
       "\n",
       "    .dataframe thead th {\n",
       "        text-align: right;\n",
       "    }\n",
       "</style>\n",
       "<table border=\"1\" class=\"dataframe\">\n",
       "  <thead>\n",
       "    <tr style=\"text-align: right;\">\n",
       "      <th></th>\n",
       "      <th>source</th>\n",
       "      <th>target</th>\n",
       "      <th>weight</th>\n",
       "      <th>alpha</th>\n",
       "    </tr>\n",
       "  </thead>\n",
       "  <tbody>\n",
       "    <tr>\n",
       "      <th>112</th>\n",
       "      <td>Jaime</td>\n",
       "      <td>Brienne</td>\n",
       "      <td>88</td>\n",
       "      <td>0.000469</td>\n",
       "    </tr>\n",
       "    <tr>\n",
       "      <th>134</th>\n",
       "      <td>Tyrion</td>\n",
       "      <td>Sansa</td>\n",
       "      <td>77</td>\n",
       "      <td>0.003657</td>\n",
       "    </tr>\n",
       "    <tr>\n",
       "      <th>184</th>\n",
       "      <td>Arya</td>\n",
       "      <td>Sandor</td>\n",
       "      <td>46</td>\n",
       "      <td>0.007376</td>\n",
       "    </tr>\n",
       "    <tr>\n",
       "      <th>156</th>\n",
       "      <td>Tyrion</td>\n",
       "      <td>Tywin</td>\n",
       "      <td>39</td>\n",
       "      <td>0.011613</td>\n",
       "    </tr>\n",
       "    <tr>\n",
       "      <th>129</th>\n",
       "      <td>Tyrion</td>\n",
       "      <td>Cersei</td>\n",
       "      <td>46</td>\n",
       "      <td>0.013247</td>\n",
       "    </tr>\n",
       "    <tr>\n",
       "      <th>...</th>\n",
       "      <td>...</td>\n",
       "      <td>...</td>\n",
       "      <td>...</td>\n",
       "      <td>...</td>\n",
       "    </tr>\n",
       "    <tr>\n",
       "      <th>244</th>\n",
       "      <td>Gregor</td>\n",
       "      <td>Sandor</td>\n",
       "      <td>12</td>\n",
       "      <td>0.332869</td>\n",
       "    </tr>\n",
       "    <tr>\n",
       "      <th>302</th>\n",
       "      <td>Daenerys</td>\n",
       "      <td>Viserys</td>\n",
       "      <td>8</td>\n",
       "      <td>0.335180</td>\n",
       "    </tr>\n",
       "    <tr>\n",
       "      <th>83</th>\n",
       "      <td>Jojen</td>\n",
       "      <td>Meera</td>\n",
       "      <td>33</td>\n",
       "      <td>0.338193</td>\n",
       "    </tr>\n",
       "    <tr>\n",
       "      <th>187</th>\n",
       "      <td>Arya</td>\n",
       "      <td>Robb</td>\n",
       "      <td>15</td>\n",
       "      <td>0.340816</td>\n",
       "    </tr>\n",
       "    <tr>\n",
       "      <th>269</th>\n",
       "      <td>Robb</td>\n",
       "      <td>Rickon</td>\n",
       "      <td>15</td>\n",
       "      <td>0.340816</td>\n",
       "    </tr>\n",
       "  </tbody>\n",
       "</table>\n",
       "<p>105 rows × 4 columns</p>\n",
       "</div>"
      ],
      "text/plain": [
       "       source   target  weight     alpha\n",
       "112     Jaime  Brienne      88  0.000469\n",
       "134    Tyrion    Sansa      77  0.003657\n",
       "184      Arya   Sandor      46  0.007376\n",
       "156    Tyrion    Tywin      39  0.011613\n",
       "129    Tyrion   Cersei      46  0.013247\n",
       "..        ...      ...     ...       ...\n",
       "244    Gregor   Sandor      12  0.332869\n",
       "302  Daenerys  Viserys       8  0.335180\n",
       "83      Jojen    Meera      33  0.338193\n",
       "187      Arya     Robb      15  0.340816\n",
       "269      Robb   Rickon      15  0.340816\n",
       "\n",
       "[105 rows x 4 columns]"
      ]
     },
     "execution_count": 7,
     "metadata": {},
     "output_type": "execute_result"
    }
   ],
   "source": [
    "fraction = int(0.3*len(G.edges()))\n",
    "\n",
    "#sort values before filtering \n",
    "backbone = backbone.sort_values(by='alpha')\n",
    "\n",
    "backbone[:fraction]"
   ]
  },
  {
   "cell_type": "code",
   "execution_count": 8,
   "id": "f4aa578e",
   "metadata": {},
   "outputs": [
    {
     "data": {
      "text/html": [
       "<div>\n",
       "<style scoped>\n",
       "    .dataframe tbody tr th:only-of-type {\n",
       "        vertical-align: middle;\n",
       "    }\n",
       "\n",
       "    .dataframe tbody tr th {\n",
       "        vertical-align: top;\n",
       "    }\n",
       "\n",
       "    .dataframe thead th {\n",
       "        text-align: right;\n",
       "    }\n",
       "</style>\n",
       "<table border=\"1\" class=\"dataframe\">\n",
       "  <thead>\n",
       "    <tr style=\"text-align: right;\">\n",
       "      <th></th>\n",
       "      <th>source</th>\n",
       "      <th>target</th>\n",
       "      <th>weight</th>\n",
       "      <th>alpha</th>\n",
       "    </tr>\n",
       "  </thead>\n",
       "  <tbody>\n",
       "    <tr>\n",
       "      <th>103</th>\n",
       "      <td>Aerys</td>\n",
       "      <td>Jaime</td>\n",
       "      <td>18</td>\n",
       "      <td>0.319586</td>\n",
       "    </tr>\n",
       "  </tbody>\n",
       "</table>\n",
       "</div>"
      ],
      "text/plain": [
       "    source target  weight     alpha\n",
       "103  Aerys  Jaime      18  0.319586"
      ]
     },
     "execution_count": 8,
     "metadata": {},
     "output_type": "execute_result"
    }
   ],
   "source": [
    "backbone[(backbone['target'] == 'Jaime') & (backbone['source'] == 'Aerys')]"
   ]
  },
  {
   "cell_type": "code",
   "execution_count": null,
   "id": "a1a43764",
   "metadata": {},
   "outputs": [],
   "source": []
  },
  {
   "cell_type": "code",
   "execution_count": 9,
   "id": "1b77c409",
   "metadata": {},
   "outputs": [],
   "source": [
    "import sys, warnings\n",
    "import numpy as np\n",
    "import pandas as pd\n",
    "import networkx as nx\n",
    "from collections import defaultdict\n",
    "from scipy.stats import binom\n",
    "\n",
    "def disparity_filter(table, undirected = False, return_self_loops = False):\n",
    "   sys.stderr.write(\"Calculating DF score...\\n\")\n",
    "   table = table.copy()\n",
    "   table_sum = table.groupby(table[\"source\"]).sum().reset_index()\n",
    "   table_deg = table.groupby(table[\"source\"]).count()[\"target\"].reset_index()\n",
    "   table = table.merge(table_sum, on = \"source\", how = \"left\", suffixes = (\"\", \"_sum\"))\n",
    "   table = table.merge(table_deg, on = \"source\", how = \"left\", suffixes = (\"\", \"_count\"))\n",
    "   table[\"score\"] = 1.0 - ((1.0 - (table[\"weight\"] / table[\"weight_sum\"])) ** (table[\"target_count\"] - 1))\n",
    "   table[\"variance\"] = (table[\"target_count\"] ** 2) * (((20 + (4.0 * table[\"target_count\"])) / ((table[\"target_count\"] + 1.0) * (table[\"target_count\"] + 2) * (table[\"target_count\"] + 3))) - ((4.0) / ((table[\"target_count\"] + 1.0) ** 2)))\n",
    "   if not return_self_loops:\n",
    "      table = table[table[\"source\"] != table[\"target\"]]\n",
    "   if undirected:\n",
    "      table[\"edge\"] = table.apply(lambda x: \"%s-%s\" % (min(x[\"source\"], x[\"target\"]), max(x[\"source\"], x[\"target\"])), axis = 1)\n",
    "      table_maxscore = table.groupby(by = \"edge\")[\"score\"].max().reset_index()\n",
    "      table_minvar = table.groupby(by = \"edge\")[\"variance\"].min().reset_index()\n",
    "      table = table.merge(table_maxscore, on = \"edge\", suffixes = (\"_min\", \"\"))\n",
    "      table = table.merge(table_minvar, on = \"edge\", suffixes = (\"_max\", \"\"))\n",
    "      table = table.drop_duplicates(subset = [\"edge\"])\n",
    "      table = table.drop(\"edge\", 1)\n",
    "      table = table.drop(\"score_min\", 1)\n",
    "      table = table.drop(\"variance_max\", 1)\n",
    "   return table[[\"source\", \"target\", \"weight\", \"score\", \"variance\"]]\n"
   ]
  },
  {
   "cell_type": "code",
   "execution_count": 10,
   "id": "b3f2f443",
   "metadata": {},
   "outputs": [],
   "source": [
    "edge_list = pd.read_csv('../Datasets/got.csv')\n",
    "#G = nx.from_pandas_edgelist(edge_list, edge_attr='weight')\n",
    "\n"
   ]
  },
  {
   "cell_type": "code",
   "execution_count": 11,
   "id": "7b0c1681",
   "metadata": {},
   "outputs": [],
   "source": [
    "stable_sum = edge_list.groupby(edge_list[\"source\"]).sum().reset_index()\n",
    "ttable_sum = edge_list.groupby(edge_list[\"target\"]).sum().reset_index()\n",
    "\n",
    "stable_sum.columns = ['nodes', 'weight']\n",
    "ttable_sum.columns = ['nodes', 'weight']\n",
    "\n",
    "table_sum = pd.concat([stable_sum, ttable_sum]).groupby('nodes').sum().reset_index()\n",
    "table_sum.columns = ['source', 'weight']\n",
    "\n",
    "\n",
    "stable_sum = edge_list.groupby(edge_list[\"source\"]).count()[\"target\"].reset_index()\n",
    "ttable_sum = edge_list.groupby(edge_list[\"target\"]).count()[\"source\"].reset_index()\n",
    "\n",
    "stable_sum.columns = ['nodes', 'weight']\n",
    "ttable_sum.columns = ['nodes', 'weight']\n",
    "\n",
    "table_deg = pd.concat([stable_sum, ttable_sum]).groupby('nodes').sum().reset_index()\n",
    "table_deg.columns = ['source', 'target']\n",
    "\n",
    "\n",
    "table = edge_list.merge(table_sum, on = \"source\", how = \"left\", suffixes = (\"\", \"_sum\"))\n",
    "table = table.merge(table_deg, on = \"source\", how = \"left\", suffixes = (\"\", \"_count\"))\n",
    "\n",
    "table['weight_norm'] = table['weight']/table['weight_sum']\n"
   ]
  },
  {
   "cell_type": "code",
   "execution_count": null,
   "id": "1e5188dc",
   "metadata": {},
   "outputs": [],
   "source": [
    "\n"
   ]
  },
  {
   "cell_type": "code",
   "execution_count": 12,
   "id": "bda9f7bb",
   "metadata": {},
   "outputs": [],
   "source": [
    "\n",
    "def calculate_disparity_pdf(row):\n",
    "    return (1 - (row.target_count-1) * integrate.quad(lambda x: (1-x)**(row.target_count-2), 0, row.weight_sum)[0])"
   ]
  },
  {
   "cell_type": "code",
   "execution_count": 13,
   "id": "95d506f0",
   "metadata": {},
   "outputs": [
    {
     "name": "stderr",
     "output_type": "stream",
     "text": [
      "/Users/ali/opt/anaconda3/envs/python3.7.7-env/lib/python3.7/site-packages/ipykernel_launcher.py:2: IntegrationWarning: The integral is probably divergent, or slowly convergent.\n",
      "  \n"
     ]
    }
   ],
   "source": [
    "table['score'] = table.apply(calculate_disparity_pdf, axis=1)"
   ]
  },
  {
   "cell_type": "code",
   "execution_count": 14,
   "id": "ba71b1ff",
   "metadata": {},
   "outputs": [],
   "source": [
    "deg = pd.DataFrame(G.degree(), columns=['nodes', 'degree'])"
   ]
  },
  {
   "cell_type": "code",
   "execution_count": 15,
   "id": "3e1f5640",
   "metadata": {},
   "outputs": [],
   "source": [
    "v = 'Jaime'"
   ]
  },
  {
   "cell_type": "code",
   "execution_count": 16,
   "id": "43ac5602",
   "metadata": {},
   "outputs": [],
   "source": [
    "k = len(G[v])"
   ]
  },
  {
   "cell_type": "code",
   "execution_count": 17,
   "id": "765ec00f",
   "metadata": {},
   "outputs": [],
   "source": [
    "u = 'Aerys'"
   ]
  },
  {
   "cell_type": "code",
   "execution_count": 18,
   "id": "d7c90726",
   "metadata": {},
   "outputs": [],
   "source": [
    "p = G[u][v]['weight']/sum([G[w][v]['weight'] for w in G[v]])"
   ]
  },
  {
   "cell_type": "code",
   "execution_count": 19,
   "id": "ba12087c",
   "metadata": {},
   "outputs": [
    {
     "data": {
      "text/plain": [
       "0.3195857521930672"
      ]
     },
     "execution_count": 19,
     "metadata": {},
     "output_type": "execute_result"
    }
   ],
   "source": [
    "1 - (k-1) * integrate.quad(lambda x: (1-x)**(k-2), 0, p)[0]"
   ]
  },
  {
   "cell_type": "code",
   "execution_count": 20,
   "id": "e0a37c20",
   "metadata": {},
   "outputs": [
    {
     "data": {
      "text/html": [
       "<div>\n",
       "<style scoped>\n",
       "    .dataframe tbody tr th:only-of-type {\n",
       "        vertical-align: middle;\n",
       "    }\n",
       "\n",
       "    .dataframe tbody tr th {\n",
       "        vertical-align: top;\n",
       "    }\n",
       "\n",
       "    .dataframe thead th {\n",
       "        text-align: right;\n",
       "    }\n",
       "</style>\n",
       "<table border=\"1\" class=\"dataframe\">\n",
       "  <thead>\n",
       "    <tr style=\"text-align: right;\">\n",
       "      <th></th>\n",
       "      <th>source</th>\n",
       "      <th>target</th>\n",
       "      <th>weight</th>\n",
       "      <th>weight_sum</th>\n",
       "      <th>target_count</th>\n",
       "      <th>weight_norm</th>\n",
       "      <th>score</th>\n",
       "    </tr>\n",
       "  </thead>\n",
       "  <tbody>\n",
       "    <tr>\n",
       "      <th>2</th>\n",
       "      <td>Aerys</td>\n",
       "      <td>Jaime</td>\n",
       "      <td>18</td>\n",
       "      <td>37</td>\n",
       "      <td>4</td>\n",
       "      <td>0.486486</td>\n",
       "      <td>-46656.0</td>\n",
       "    </tr>\n",
       "  </tbody>\n",
       "</table>\n",
       "</div>"
      ],
      "text/plain": [
       "  source target  weight  weight_sum  target_count  weight_norm    score\n",
       "2  Aerys  Jaime      18          37             4     0.486486 -46656.0"
      ]
     },
     "execution_count": 20,
     "metadata": {},
     "output_type": "execute_result"
    }
   ],
   "source": [
    "table[(table['target'] == 'Jaime') & (table['source'] == 'Aerys')]"
   ]
  },
  {
   "cell_type": "code",
   "execution_count": 21,
   "id": "41c8da24",
   "metadata": {},
   "outputs": [
    {
     "data": {
      "text/html": [
       "<div>\n",
       "<style scoped>\n",
       "    .dataframe tbody tr th:only-of-type {\n",
       "        vertical-align: middle;\n",
       "    }\n",
       "\n",
       "    .dataframe tbody tr th {\n",
       "        vertical-align: top;\n",
       "    }\n",
       "\n",
       "    .dataframe thead th {\n",
       "        text-align: right;\n",
       "    }\n",
       "</style>\n",
       "<table border=\"1\" class=\"dataframe\">\n",
       "  <thead>\n",
       "    <tr style=\"text-align: right;\">\n",
       "      <th></th>\n",
       "      <th>source</th>\n",
       "      <th>target</th>\n",
       "    </tr>\n",
       "  </thead>\n",
       "  <tbody>\n",
       "    <tr>\n",
       "      <th>41</th>\n",
       "      <td>Jaime</td>\n",
       "      <td>24</td>\n",
       "    </tr>\n",
       "  </tbody>\n",
       "</table>\n",
       "</div>"
      ],
      "text/plain": [
       "   source  target\n",
       "41  Jaime      24"
      ]
     },
     "execution_count": 21,
     "metadata": {},
     "output_type": "execute_result"
    }
   ],
   "source": [
    "table_deg[table_deg['source'] == 'Jaime']"
   ]
  },
  {
   "cell_type": "code",
   "execution_count": 22,
   "id": "c99c2321",
   "metadata": {},
   "outputs": [
    {
     "data": {
      "text/html": [
       "<div>\n",
       "<style scoped>\n",
       "    .dataframe tbody tr th:only-of-type {\n",
       "        vertical-align: middle;\n",
       "    }\n",
       "\n",
       "    .dataframe tbody tr th {\n",
       "        vertical-align: top;\n",
       "    }\n",
       "\n",
       "    .dataframe thead th {\n",
       "        text-align: right;\n",
       "    }\n",
       "</style>\n",
       "<table border=\"1\" class=\"dataframe\">\n",
       "  <thead>\n",
       "    <tr style=\"text-align: right;\">\n",
       "      <th></th>\n",
       "      <th>source</th>\n",
       "      <th>target</th>\n",
       "      <th>weight</th>\n",
       "      <th>weight_sum</th>\n",
       "      <th>target_count</th>\n",
       "      <th>weight_norm</th>\n",
       "      <th>score</th>\n",
       "    </tr>\n",
       "  </thead>\n",
       "  <tbody>\n",
       "    <tr>\n",
       "      <th>0</th>\n",
       "      <td>Aemon</td>\n",
       "      <td>Grenn</td>\n",
       "      <td>5</td>\n",
       "      <td>74</td>\n",
       "      <td>5</td>\n",
       "      <td>0.067568</td>\n",
       "      <td>2.839824e+07</td>\n",
       "    </tr>\n",
       "    <tr>\n",
       "      <th>1</th>\n",
       "      <td>Aemon</td>\n",
       "      <td>Samwell</td>\n",
       "      <td>31</td>\n",
       "      <td>74</td>\n",
       "      <td>5</td>\n",
       "      <td>0.418919</td>\n",
       "      <td>2.839824e+07</td>\n",
       "    </tr>\n",
       "    <tr>\n",
       "      <th>2</th>\n",
       "      <td>Aerys</td>\n",
       "      <td>Jaime</td>\n",
       "      <td>18</td>\n",
       "      <td>37</td>\n",
       "      <td>4</td>\n",
       "      <td>0.486486</td>\n",
       "      <td>-4.665600e+04</td>\n",
       "    </tr>\n",
       "    <tr>\n",
       "      <th>3</th>\n",
       "      <td>Aerys</td>\n",
       "      <td>Robert</td>\n",
       "      <td>6</td>\n",
       "      <td>37</td>\n",
       "      <td>4</td>\n",
       "      <td>0.162162</td>\n",
       "      <td>-4.665600e+04</td>\n",
       "    </tr>\n",
       "    <tr>\n",
       "      <th>4</th>\n",
       "      <td>Aerys</td>\n",
       "      <td>Tyrion</td>\n",
       "      <td>5</td>\n",
       "      <td>37</td>\n",
       "      <td>4</td>\n",
       "      <td>0.135135</td>\n",
       "      <td>-4.665600e+04</td>\n",
       "    </tr>\n",
       "    <tr>\n",
       "      <th>...</th>\n",
       "      <td>...</td>\n",
       "      <td>...</td>\n",
       "      <td>...</td>\n",
       "      <td>...</td>\n",
       "      <td>...</td>\n",
       "      <td>...</td>\n",
       "      <td>...</td>\n",
       "    </tr>\n",
       "    <tr>\n",
       "      <th>347</th>\n",
       "      <td>Walder</td>\n",
       "      <td>Petyr</td>\n",
       "      <td>6</td>\n",
       "      <td>87</td>\n",
       "      <td>8</td>\n",
       "      <td>0.068966</td>\n",
       "      <td>-3.479278e+13</td>\n",
       "    </tr>\n",
       "    <tr>\n",
       "      <th>348</th>\n",
       "      <td>Walder</td>\n",
       "      <td>Roslin</td>\n",
       "      <td>6</td>\n",
       "      <td>87</td>\n",
       "      <td>8</td>\n",
       "      <td>0.068966</td>\n",
       "      <td>-3.479278e+13</td>\n",
       "    </tr>\n",
       "    <tr>\n",
       "      <th>349</th>\n",
       "      <td>Walton</td>\n",
       "      <td>Jaime</td>\n",
       "      <td>10</td>\n",
       "      <td>10</td>\n",
       "      <td>1</td>\n",
       "      <td>1.000000</td>\n",
       "      <td>1.000000e+00</td>\n",
       "    </tr>\n",
       "    <tr>\n",
       "      <th>350</th>\n",
       "      <td>Ygritte</td>\n",
       "      <td>Qhorin</td>\n",
       "      <td>7</td>\n",
       "      <td>82</td>\n",
       "      <td>4</td>\n",
       "      <td>0.085366</td>\n",
       "      <td>-5.314410e+05</td>\n",
       "    </tr>\n",
       "    <tr>\n",
       "      <th>351</th>\n",
       "      <td>Ygritte</td>\n",
       "      <td>Rattleshirt</td>\n",
       "      <td>9</td>\n",
       "      <td>82</td>\n",
       "      <td>4</td>\n",
       "      <td>0.109756</td>\n",
       "      <td>-5.314410e+05</td>\n",
       "    </tr>\n",
       "  </tbody>\n",
       "</table>\n",
       "<p>352 rows × 7 columns</p>\n",
       "</div>"
      ],
      "text/plain": [
       "      source       target  weight  weight_sum  target_count  weight_norm  \\\n",
       "0      Aemon        Grenn       5          74             5     0.067568   \n",
       "1      Aemon      Samwell      31          74             5     0.418919   \n",
       "2      Aerys        Jaime      18          37             4     0.486486   \n",
       "3      Aerys       Robert       6          37             4     0.162162   \n",
       "4      Aerys       Tyrion       5          37             4     0.135135   \n",
       "..       ...          ...     ...         ...           ...          ...   \n",
       "347   Walder        Petyr       6          87             8     0.068966   \n",
       "348   Walder       Roslin       6          87             8     0.068966   \n",
       "349   Walton        Jaime      10          10             1     1.000000   \n",
       "350  Ygritte       Qhorin       7          82             4     0.085366   \n",
       "351  Ygritte  Rattleshirt       9          82             4     0.109756   \n",
       "\n",
       "            score  \n",
       "0    2.839824e+07  \n",
       "1    2.839824e+07  \n",
       "2   -4.665600e+04  \n",
       "3   -4.665600e+04  \n",
       "4   -4.665600e+04  \n",
       "..            ...  \n",
       "347 -3.479278e+13  \n",
       "348 -3.479278e+13  \n",
       "349  1.000000e+00  \n",
       "350 -5.314410e+05  \n",
       "351 -5.314410e+05  \n",
       "\n",
       "[352 rows x 7 columns]"
      ]
     },
     "execution_count": 22,
     "metadata": {},
     "output_type": "execute_result"
    }
   ],
   "source": [
    "table"
   ]
  },
  {
   "cell_type": "code",
   "execution_count": 23,
   "id": "326351e6",
   "metadata": {},
   "outputs": [],
   "source": [
    "\n",
    "def calculate_disparity_pdf(row):\n",
    "    return (1 - (row.degree-1) * integrate.quad(lambda x: (1-x)**(row.degree-2), 0, row.weighted_degree)[0])"
   ]
  },
  {
   "cell_type": "code",
   "execution_count": null,
   "id": "dfdcbf0e",
   "metadata": {},
   "outputs": [],
   "source": [
    "#source, target, weight, degree, weighted_degree, score"
   ]
  },
  {
   "cell_type": "code",
   "execution_count": 28,
   "id": "678269ba",
   "metadata": {},
   "outputs": [],
   "source": [
    "from scipy.stats import entropy\n",
    "data = [1,2,2,3,3,3]\n",
    "\n",
    "pd_series = pd.Series(data)\n",
    "counts = pd_series.value_counts()\n",
    "entropy = entropy(counts)"
   ]
  },
  {
   "cell_type": "code",
   "execution_count": 31,
   "id": "81f98c26",
   "metadata": {},
   "outputs": [
    {
     "data": {
      "text/plain": [
       "3    3\n",
       "2    2\n",
       "1    1\n",
       "dtype: int64"
      ]
     },
     "execution_count": 31,
     "metadata": {},
     "output_type": "execute_result"
    }
   ],
   "source": [
    "counts"
   ]
  },
  {
   "cell_type": "code",
   "execution_count": null,
   "id": "bf566109",
   "metadata": {},
   "outputs": [],
   "source": []
  }
 ],
 "metadata": {
  "kernelspec": {
   "display_name": "Python [conda env:python3.7.7-env]",
   "language": "python",
   "name": "conda-env-python3.7.7-env-py"
  },
  "language_info": {
   "codemirror_mode": {
    "name": "ipython",
    "version": 3
   },
   "file_extension": ".py",
   "mimetype": "text/x-python",
   "name": "python",
   "nbconvert_exporter": "python",
   "pygments_lexer": "ipython3",
   "version": "3.7.7"
  }
 },
 "nbformat": 4,
 "nbformat_minor": 5
}

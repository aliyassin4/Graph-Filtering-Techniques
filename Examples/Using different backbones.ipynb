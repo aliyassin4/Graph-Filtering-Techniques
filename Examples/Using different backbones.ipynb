{
 "cells": [
  {
   "cell_type": "markdown",
   "id": "6eca69f1",
   "metadata": {},
   "source": [
    "# Import Libraries"
   ]
  },
  {
   "cell_type": "code",
   "execution_count": 1,
   "id": "d2837800",
   "metadata": {},
   "outputs": [],
   "source": [
    "import os\n",
    "import sys\n",
    "nb_dir = os.path.split(os.getcwd())[0]\n",
    "if nb_dir not in sys.path:\n",
    "    sys.path.append(nb_dir)"
   ]
  },
  {
   "cell_type": "code",
   "execution_count": 2,
   "id": "d39ea3b0",
   "metadata": {},
   "outputs": [],
   "source": [
    "import pandas as pd\n",
    "import numpy as np\n",
    "import networkx as nx"
   ]
  },
  {
   "cell_type": "markdown",
   "id": "51137731",
   "metadata": {},
   "source": [
    "# Using the Disparity Filter"
   ]
  },
  {
   "cell_type": "code",
   "execution_count": 3,
   "id": "4dddd85e",
   "metadata": {},
   "outputs": [],
   "source": [
    "#import the disparity filter module\n",
    "from Backbones import disparity_filter as disf\n",
    "\n",
    "#read edge list from csv file\n",
    "edges_list = pd.read_csv('../Datasets/lesmis.csv')\n",
    "\n",
    "#create graph from the edge list\n",
    "G = nx.from_pandas_edgelist(edges_list, edge_attr='weight', create_using=nx.Graph())\n",
    "\n",
    "#apply the disparity filter algorithm\n",
    "backbone = disf.disparity_filter(G)\n",
    "\n",
    "#create an edge list from the result graph with the scores\n",
    "df_backbone = nx.to_pandas_edgelist(backbone)\n",
    "\n",
    "#save the edge list to visualize later\n",
    "df_backbone.to_csv('../Results/lesmis_df_backbone.csv', index=False)"
   ]
  },
  {
   "cell_type": "markdown",
   "id": "828f737f",
   "metadata": {},
   "source": [
    "# Using the High Salience Skeleton"
   ]
  },
  {
   "cell_type": "code",
   "execution_count": 4,
   "id": "bd644d06",
   "metadata": {},
   "outputs": [],
   "source": [
    "#import the high salience skeleton module\n",
    "from Backbones.high_salience_skeleton import read, high_salience_skeleton as hss\n",
    "\n",
    "#read edge list from csv file using the high salience skeleton module\n",
    "table, nnodes, nnedges = read(\"../Datasets/lesmis.csv\", \"weight\", sep=',', consider_self_loops=False, triangular_input = True, undirected=True) \n",
    "\n",
    "#apply the high salience skeleton algorithm\n",
    "hss_backbone = hss(table, return_self_loops=False, undirected=True)\n",
    "\n",
    "#save the edge list to visualize later\n",
    "hss_backbone.to_csv('../Results/lesmis_hss_backbone.csv', index=False)"
   ]
  },
  {
   "cell_type": "markdown",
   "id": "fae159fd",
   "metadata": {},
   "source": [
    "# Using the Distance Closure"
   ]
  },
  {
   "cell_type": "code",
   "execution_count": 5,
   "id": "89a0abc1",
   "metadata": {},
   "outputs": [],
   "source": [
    "#import the distance closure modules\n",
    "from distanceclosure.utils import prox2dist, dist2prox\n",
    "from distanceclosure.distance import pairwise_proximity\n",
    "import distanceclosure as dc\n",
    "\n",
    "#read edge list from csv file\n",
    "edges_list = pd.read_csv('../Datasets/lesmis.csv')\n",
    "\n",
    "#create graph from the edge list\n",
    "labeled_G = nx.from_pandas_edgelist(edges_list, edge_attr='weight', create_using=nx.Graph())\n",
    "\n",
    "#convert node labels to integers and store the labels as attributes and get the label used for mapping later\n",
    "G = nx.convert_node_labels_to_integers(G, label_attribute='name')\n",
    "mapping_lables = nx.get_node_attributes(G, name='name')\n",
    "\n",
    "#create the adjacency matrix of the graph\n",
    "W = nx.adjacency_matrix(G).todense()\n",
    "\n",
    "#calculate the proximity matrix using the weighted jaccard algorithm\n",
    "P = pairwise_proximity(W, metric='jaccard_weighted')\n",
    "\n",
    "#convert the proximity matrix to a distance matrix\n",
    "D = np.vectorize(prox2dist)(P)\n",
    "\n",
    "#create a distance graph from the distance matrix containing only the edges observed in the original network\n",
    "DG = nx.from_numpy_matrix(D)\n",
    "for u,v in DG.edges():\n",
    "    edge = (u,v)\n",
    "    if edge not in G.edges():\n",
    "        DG.remove_edge(u, v)\n",
    "\n",
    "#apply the distance closure algorithm to obtain the metric and ultrametric backbones\n",
    "m_backbone = dc.distance_closure(DG, kind='metric', weight='weight', only_backbone=True)\n",
    "um_backbone = dc.distance_closure(DG, kind='ultrametric', weight='weight', only_backbone=True)\n",
    "\n",
    "#relabel the graphs with the original labels\n",
    "m_backbone = nx.relabel_nodes(m_backbone, mapping_lables)\n",
    "um_backbone = nx.relabel_nodes(um_backbone, mapping_lables)\n",
    "\n",
    "#create an edge list from the result graph with a boolean value that shows if an edge is metric or not\n",
    "metric_backbone = nx.to_pandas_edgelist(m_backbone)\n",
    "ultrametric_backbone = nx.to_pandas_edgelist(um_backbone)\n",
    "\n",
    "#save the edge list to visualize later\n",
    "metric_backbone.to_csv('../Results/lesmis_metric_backbone.csv', index=False)\n",
    "ultrametric_backbone.to_csv('../Results/lesmis_ultrametric_backbone.csv', index=False)"
   ]
  },
  {
   "cell_type": "code",
   "execution_count": null,
   "id": "3af2cbfc",
   "metadata": {},
   "outputs": [],
   "source": []
  },
  {
   "cell_type": "code",
   "execution_count": null,
   "id": "424a16e8",
   "metadata": {},
   "outputs": [],
   "source": []
  }
 ],
 "metadata": {
  "kernelspec": {
   "display_name": "Python 3 (ipykernel)",
   "language": "python",
   "name": "python3"
  },
  "language_info": {
   "codemirror_mode": {
    "name": "ipython",
    "version": 3
   },
   "file_extension": ".py",
   "mimetype": "text/x-python",
   "name": "python",
   "nbconvert_exporter": "python",
   "pygments_lexer": "ipython3",
   "version": "3.7.7"
  }
 },
 "nbformat": 4,
 "nbformat_minor": 5
}

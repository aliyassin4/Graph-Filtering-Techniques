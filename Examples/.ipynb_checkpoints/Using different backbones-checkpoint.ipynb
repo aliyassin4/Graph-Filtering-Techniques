{
 "cells": [
  {
   "cell_type": "markdown",
   "id": "6eca69f1",
   "metadata": {},
   "source": [
    "# Import Libraries"
   ]
  },
  {
   "cell_type": "code",
   "execution_count": 1,
   "id": "d2837800",
   "metadata": {},
   "outputs": [],
   "source": [
    "import os\n",
    "import sys\n",
    "nb_dir = os.path.split(os.getcwd())[0]\n",
    "if nb_dir not in sys.path:\n",
    "    sys.path.append(nb_dir)"
   ]
  },
  {
   "cell_type": "code",
   "execution_count": 2,
   "id": "d39ea3b0",
   "metadata": {},
   "outputs": [],
   "source": [
    "import pandas as pd\n",
    "import numpy as np\n",
    "import networkx as nx"
   ]
  },
  {
   "cell_type": "markdown",
   "id": "51137731",
   "metadata": {},
   "source": [
    "# Using the Disparity Filter"
   ]
  },
  {
   "cell_type": "code",
   "execution_count": 3,
   "id": "4dddd85e",
   "metadata": {},
   "outputs": [],
   "source": [
    "#import the disparity filter module\n",
    "from Backbones import disparity_filter as disf\n",
    "\n",
    "#read edge list from csv file\n",
    "edges_list = pd.read_csv('../Datasets/lesmis.csv')\n",
    "\n",
    "#create graph from the edge list\n",
    "G = nx.from_pandas_edgelist(edges_list, edge_attr='weight', create_using=nx.Graph())\n",
    "\n",
    "#apply the disparity filter algorithm\n",
    "backbone = disf.disparity_filter(G)\n",
    "\n",
    "#create an edge list from the result graph with the scores\n",
    "df_backbone = nx.to_pandas_edgelist(backbone)\n",
    "\n",
    "#save the edge list to visualize later\n",
    "df_backbone.to_csv('../Results/Backbones Results/lesmis_df_backbone.csv', index=False)"
   ]
  },
  {
   "cell_type": "markdown",
   "id": "a4d25d58",
   "metadata": {},
   "source": [
    "# Using the Doubly Stochastic Filter"
   ]
  },
  {
   "cell_type": "code",
   "execution_count": 4,
   "id": "3e7abdbd",
   "metadata": {},
   "outputs": [],
   "source": [
    "#import the doubly stochastic filter module\n",
    "from Backbones.doubly_stochastic import read, doubly_stochastic as ds\n",
    "\n",
    "#read edge list from csv file using the doubly stochastic filter module\n",
    "table, nnodes, nnedges = read(\"../Datasets/lesmis.csv\", \"weight\", sep=',', consider_self_loops=False, triangular_input = True, undirected=True) \n",
    "\n",
    "#apply the doubly stochastic filter algorithm\n",
    "ds_backbone = ds(table, undirected = True, return_self_loops = False)\n",
    "\n",
    "#save the edge list to visualize later\n",
    "ds_backbone.to_csv('../Results/Backbones Results/lesmis_ds_backbone.csv', index=False)"
   ]
  },
  {
   "cell_type": "markdown",
   "id": "828f737f",
   "metadata": {},
   "source": [
    "# Using the High Salience Skeleton"
   ]
  },
  {
   "cell_type": "code",
   "execution_count": 5,
   "id": "bd644d06",
   "metadata": {},
   "outputs": [],
   "source": [
    "#import the high salience skeleton module\n",
    "from Backbones.high_salience_skeleton import read, high_salience_skeleton as hss\n",
    "\n",
    "#read edge list from csv file using the high salience skeleton module\n",
    "table, nnodes, nnedges = read(\"../Datasets/lesmis.csv\", \"weight\", sep=',', consider_self_loops=False, triangular_input = True, undirected=True) \n",
    "\n",
    "#apply the high salience skeleton algorithm\n",
    "hss_backbone = hss(table, return_self_loops=False, undirected=True)\n",
    "\n",
    "#save the edge list to visualize later\n",
    "hss_backbone.to_csv('../Results/Backbones Results/lesmis_hss_backbone.csv', index=False)"
   ]
  },
  {
   "cell_type": "markdown",
   "id": "fae159fd",
   "metadata": {},
   "source": [
    "# Using the Distance Closure"
   ]
  },
  {
   "cell_type": "code",
   "execution_count": 6,
   "id": "89a0abc1",
   "metadata": {},
   "outputs": [],
   "source": [
    "#import the distance closure modules\n",
    "from distanceclosure.utils import prox2dist, dist2prox\n",
    "from distanceclosure.distance import pairwise_proximity\n",
    "import distanceclosure as dc\n",
    "\n",
    "#read edge list from csv file\n",
    "edges_list = pd.read_csv('../Datasets/lesmis.csv')\n",
    "\n",
    "#create graph from the edge list\n",
    "labeled_G = nx.from_pandas_edgelist(edges_list, edge_attr='weight', create_using=nx.Graph())\n",
    "\n",
    "#convert node labels to integers and store the labels as attributes and get the label used for mapping later\n",
    "G = nx.convert_node_labels_to_integers(G, label_attribute='name')\n",
    "mapping_lables = nx.get_node_attributes(G, name='name')\n",
    "\n",
    "#create the adjacency matrix of the graph\n",
    "W = nx.adjacency_matrix(G).todense()\n",
    "\n",
    "#calculate the proximity matrix using the weighted jaccard algorithm\n",
    "P = pairwise_proximity(W, metric='jaccard_weighted')\n",
    "\n",
    "#convert the proximity matrix to a distance matrix\n",
    "D = np.vectorize(prox2dist)(P)\n",
    "\n",
    "#create a distance graph from the distance matrix containing only the edges observed in the original network\n",
    "DG = nx.from_numpy_matrix(D)\n",
    "for u,v in DG.edges():\n",
    "    edge = (u,v)\n",
    "    if edge not in G.edges():\n",
    "        DG.remove_edge(u, v)\n",
    "\n",
    "#apply the distance closure algorithm to obtain the metric and ultrametric backbones\n",
    "m_backbone = dc.distance_closure(DG, kind='metric', weight='weight', only_backbone=True)\n",
    "um_backbone = dc.distance_closure(DG, kind='ultrametric', weight='weight', only_backbone=True)\n",
    "\n",
    "#relabel the graphs with the original labels\n",
    "m_backbone = nx.relabel_nodes(m_backbone, mapping_lables)\n",
    "um_backbone = nx.relabel_nodes(um_backbone, mapping_lables)\n",
    "\n",
    "#create an edge list from the result graph with a boolean value that shows if an edge is metric or not\n",
    "metric_backbone = nx.to_pandas_edgelist(m_backbone)\n",
    "ultrametric_backbone = nx.to_pandas_edgelist(um_backbone)\n",
    "\n",
    "#save the edge list to visualize later\n",
    "metric_backbone.to_csv('../Results/Backbones Results/lesmis_metric_backbone.csv', index=False)\n",
    "ultrametric_backbone.to_csv('../Results/Backbones Results/lesmis_ultrametric_backbone.csv', index=False)"
   ]
  },
  {
   "cell_type": "markdown",
   "id": "64336152",
   "metadata": {},
   "source": [
    "# Using the Polya Filter"
   ]
  },
  {
   "cell_type": "code",
   "execution_count": 7,
   "id": "c3e11055",
   "metadata": {},
   "outputs": [],
   "source": [
    "#run it in matlab and import the results here\n",
    "pf_04_backbone = pd.read_csv('../Results/Backbones Results/lesmis_pf_04_backbone.csv')\n",
    "pf_1_backbone = pd.read_csv('../Results/Backbones Results/lesmis_pf_1_backbone.csv')\n",
    "pf_4_backbone = pd.read_csv('../Results/Backbones Results/lesmis_pf_4_backbone.csv')"
   ]
  },
  {
   "cell_type": "markdown",
   "id": "4caffa61",
   "metadata": {},
   "source": [
    "# Using the h_backbone"
   ]
  },
  {
   "cell_type": "code",
   "execution_count": 8,
   "id": "a86574e6",
   "metadata": {},
   "outputs": [],
   "source": [
    "#import the disparity filter module\n",
    "from Backbones import h_backbone as hb\n",
    "\n",
    "#read edge list from csv file\n",
    "edges_list = pd.read_csv('../Datasets/lesmis.csv')\n",
    "\n",
    "#create graph from the edge list\n",
    "G = nx.from_pandas_edgelist(edges_list, edge_attr='weight', create_using=nx.Graph())\n",
    "\n",
    "#apply the disparity filter algorithm\n",
    "backbone = hb.h_backbone(G)\n",
    "\n",
    "#create an edge list from the result graph with the scores\n",
    "h_backbone = nx.to_pandas_edgelist(backbone)\n",
    "\n",
    "#save the edge list to visualize later\n",
    "h_backbone.to_csv('../Results/Backbones Results/lesmis_h_backbone.csv', index=False)"
   ]
  },
  {
   "cell_type": "markdown",
   "id": "b51f3c19",
   "metadata": {},
   "source": [
    "# Process and Merge the results to Analyze in Gephi"
   ]
  },
  {
   "cell_type": "code",
   "execution_count": 9,
   "id": "e4321d6f",
   "metadata": {},
   "outputs": [],
   "source": [
    "final_G = nx.from_pandas_edgelist(edges_list, edge_attr='weight', create_using=nx.Graph())"
   ]
  },
  {
   "cell_type": "code",
   "execution_count": 10,
   "id": "90cf8fc7",
   "metadata": {},
   "outputs": [],
   "source": [
    "df_backbone = df_backbone.drop(columns=['weight'])\n",
    "df_backbone = df_backbone.reindex(columns=['source', 'target', 'alpha'])"
   ]
  },
  {
   "cell_type": "code",
   "execution_count": 11,
   "id": "33b77944",
   "metadata": {},
   "outputs": [],
   "source": [
    "nx.set_edge_attributes(final_G, {(row[0],row[1]):{'df_score':row[2]} for index, row in df_backbone.iterrows()})"
   ]
  },
  {
   "cell_type": "code",
   "execution_count": 12,
   "id": "fe290d75",
   "metadata": {},
   "outputs": [],
   "source": [
    "ds_backbone = ds_backbone.drop(columns=['score'])\n",
    "ds_backbone = ds_backbone.reindex(columns=['source', 'target','ds_backbone'])"
   ]
  },
  {
   "cell_type": "code",
   "execution_count": 13,
   "id": "1871a8cf",
   "metadata": {},
   "outputs": [],
   "source": [
    "nx.set_edge_attributes(final_G, {(row[0],row[1]):{'ds_backbone':row[2]} for index, row in ds_backbone.iterrows()})"
   ]
  },
  {
   "cell_type": "code",
   "execution_count": 14,
   "id": "424a16e8",
   "metadata": {},
   "outputs": [],
   "source": [
    "hss_backbone = hss_backbone.drop(columns=['nij'])\n",
    "hss_backbone = hss_backbone.reindex(columns=['source', 'target', 'score'])"
   ]
  },
  {
   "cell_type": "code",
   "execution_count": 15,
   "id": "737e01b1",
   "metadata": {},
   "outputs": [],
   "source": [
    "nx.set_edge_attributes(final_G, {(row[0],row[1]):{'hss_score':row[2]} for index, row in hss_backbone.iterrows()})"
   ]
  },
  {
   "cell_type": "code",
   "execution_count": 16,
   "id": "1d3ed025",
   "metadata": {},
   "outputs": [],
   "source": [
    "metric_backbone = metric_backbone.drop(columns=['metric_distance', 'weight'])\n",
    "metric_backbone = metric_backbone.reindex(columns=['source', 'target', 'is_metric'])"
   ]
  },
  {
   "cell_type": "code",
   "execution_count": 17,
   "id": "51fbea8e",
   "metadata": {},
   "outputs": [],
   "source": [
    "nx.set_edge_attributes(final_G, {(row[0],row[1]):{'dc_metric':row[2]} for index, row in metric_backbone.iterrows()})"
   ]
  },
  {
   "cell_type": "code",
   "execution_count": 18,
   "id": "67c2e882",
   "metadata": {},
   "outputs": [],
   "source": [
    "ultrametric_backbone = ultrametric_backbone.drop(columns=['ultrametric_distance', 'weight'])\n",
    "ultrametric_backbone = ultrametric_backbone.reindex(columns=['source', 'target', 'is_ultrametric'])"
   ]
  },
  {
   "cell_type": "code",
   "execution_count": 19,
   "id": "f7c58264",
   "metadata": {},
   "outputs": [],
   "source": [
    "nx.set_edge_attributes(final_G, {(row[0],row[1]):{'dc_ultrametric':row[2]} for index, row in ultrametric_backbone.iterrows()})"
   ]
  },
  {
   "cell_type": "code",
   "execution_count": 20,
   "id": "e5ccdb68",
   "metadata": {},
   "outputs": [],
   "source": [
    "nx.set_edge_attributes(final_G, {(row[0],row[1]):{'pf_04_score':row[2]} for index, row in pf_04_backbone.iterrows()})\n",
    "nx.set_edge_attributes(final_G, {(row[0],row[1]):{'pf_1_score':row[2]} for index, row in pf_1_backbone.iterrows()})\n",
    "nx.set_edge_attributes(final_G, {(row[0],row[1]):{'pf_4_score':row[2]} for index, row in pf_4_backbone.iterrows()})"
   ]
  },
  {
   "cell_type": "code",
   "execution_count": 21,
   "id": "9fe76498",
   "metadata": {},
   "outputs": [],
   "source": [
    "h_backbone = h_backbone.drop(columns=['bridge', 'weight'])"
   ]
  },
  {
   "cell_type": "code",
   "execution_count": 22,
   "id": "69ce2cee",
   "metadata": {},
   "outputs": [],
   "source": [
    "nx.set_edge_attributes(final_G, {(row[0],row[1]):{'h_backbone':row[2]} for index, row in h_backbone.iterrows()})"
   ]
  },
  {
   "cell_type": "markdown",
   "id": "e7dfb6da",
   "metadata": {},
   "source": [
    "# Add Infection Paticipation"
   ]
  },
  {
   "cell_type": "code",
   "execution_count": 23,
   "id": "335bee03",
   "metadata": {},
   "outputs": [],
   "source": [
    "infection_participation = pd.read_csv('../Results/Epidemic Simulations Resutls/lesmis_epidemic_simulations.csv')\n",
    "infection_participation = infection_participation.drop(columns=['weight'])\n",
    "nx.set_edge_attributes(final_G, {(row[0],row[1]):{'infection_participation':row[2]} for index, row in infection_participation.iterrows()})"
   ]
  },
  {
   "cell_type": "code",
   "execution_count": 24,
   "id": "f34a959d",
   "metadata": {},
   "outputs": [],
   "source": [
    "results = nx.to_pandas_edgelist(final_G)\n",
    "results.rename(columns = {'source':'Source', 'target':'Target', 'weight': 'Weight'}, inplace = True)\n",
    "results = results.reindex(columns=['Source', 'Target', 'Weight', 'df_score', 'hss_score', 'dc_metric', 'dc_ultrametric', 'ds_backbone', 'pf_04_score', 'pf_1_score', 'pf_4_score', 'h_backbone', 'infection_participation'])"
   ]
  },
  {
   "cell_type": "code",
   "execution_count": 25,
   "id": "2a1b5f9d",
   "metadata": {},
   "outputs": [],
   "source": [
    "results.to_csv('../Results/merged.csv', index=False)"
   ]
  },
  {
   "cell_type": "code",
   "execution_count": 26,
   "id": "0b77b071",
   "metadata": {
    "scrolled": false
   },
   "outputs": [
    {
     "data": {
      "text/html": [
       "<div>\n",
       "<style scoped>\n",
       "    .dataframe tbody tr th:only-of-type {\n",
       "        vertical-align: middle;\n",
       "    }\n",
       "\n",
       "    .dataframe tbody tr th {\n",
       "        vertical-align: top;\n",
       "    }\n",
       "\n",
       "    .dataframe thead th {\n",
       "        text-align: right;\n",
       "    }\n",
       "</style>\n",
       "<table border=\"1\" class=\"dataframe\">\n",
       "  <thead>\n",
       "    <tr style=\"text-align: right;\">\n",
       "      <th></th>\n",
       "      <th>Source</th>\n",
       "      <th>Target</th>\n",
       "      <th>Weight</th>\n",
       "      <th>df_score</th>\n",
       "      <th>hss_score</th>\n",
       "      <th>dc_metric</th>\n",
       "      <th>dc_ultrametric</th>\n",
       "      <th>ds_backbone</th>\n",
       "      <th>pf_04_score</th>\n",
       "      <th>pf_1_score</th>\n",
       "      <th>pf_4_score</th>\n",
       "      <th>h_backbone</th>\n",
       "      <th>infection_participation</th>\n",
       "    </tr>\n",
       "  </thead>\n",
       "  <tbody>\n",
       "    <tr>\n",
       "      <th>0</th>\n",
       "      <td>Napoleon</td>\n",
       "      <td>Myriel</td>\n",
       "      <td>1</td>\n",
       "      <td>0.712010</td>\n",
       "      <td>1.000000</td>\n",
       "      <td>True</td>\n",
       "      <td>True</td>\n",
       "      <td>True</td>\n",
       "      <td>0.001682</td>\n",
       "      <td>0.001476</td>\n",
       "      <td>0.000972</td>\n",
       "      <td>False</td>\n",
       "      <td>0.09185</td>\n",
       "    </tr>\n",
       "    <tr>\n",
       "      <th>1</th>\n",
       "      <td>Myriel</td>\n",
       "      <td>MlleBaptistine</td>\n",
       "      <td>8</td>\n",
       "      <td>0.280277</td>\n",
       "      <td>0.116883</td>\n",
       "      <td>True</td>\n",
       "      <td>True</td>\n",
       "      <td>True</td>\n",
       "      <td>0.000068</td>\n",
       "      <td>0.000144</td>\n",
       "      <td>0.000253</td>\n",
       "      <td>False</td>\n",
       "      <td>0.19966</td>\n",
       "    </tr>\n",
       "    <tr>\n",
       "      <th>2</th>\n",
       "      <td>Myriel</td>\n",
       "      <td>MmeMagloire</td>\n",
       "      <td>10</td>\n",
       "      <td>0.224377</td>\n",
       "      <td>0.987013</td>\n",
       "      <td>True</td>\n",
       "      <td>False</td>\n",
       "      <td>True</td>\n",
       "      <td>0.000018</td>\n",
       "      <td>0.000065</td>\n",
       "      <td>0.000183</td>\n",
       "      <td>False</td>\n",
       "      <td>0.21552</td>\n",
       "    </tr>\n",
       "    <tr>\n",
       "      <th>3</th>\n",
       "      <td>Myriel</td>\n",
       "      <td>CountessDeLo</td>\n",
       "      <td>1</td>\n",
       "      <td>0.712010</td>\n",
       "      <td>1.000000</td>\n",
       "      <td>True</td>\n",
       "      <td>True</td>\n",
       "      <td>True</td>\n",
       "      <td>0.001682</td>\n",
       "      <td>0.001476</td>\n",
       "      <td>0.000972</td>\n",
       "      <td>False</td>\n",
       "      <td>0.09178</td>\n",
       "    </tr>\n",
       "    <tr>\n",
       "      <th>4</th>\n",
       "      <td>Myriel</td>\n",
       "      <td>Geborand</td>\n",
       "      <td>1</td>\n",
       "      <td>0.712010</td>\n",
       "      <td>1.000000</td>\n",
       "      <td>True</td>\n",
       "      <td>True</td>\n",
       "      <td>True</td>\n",
       "      <td>0.001682</td>\n",
       "      <td>0.001476</td>\n",
       "      <td>0.000972</td>\n",
       "      <td>False</td>\n",
       "      <td>0.09183</td>\n",
       "    </tr>\n",
       "    <tr>\n",
       "      <th>...</th>\n",
       "      <td>...</td>\n",
       "      <td>...</td>\n",
       "      <td>...</td>\n",
       "      <td>...</td>\n",
       "      <td>...</td>\n",
       "      <td>...</td>\n",
       "      <td>...</td>\n",
       "      <td>...</td>\n",
       "      <td>...</td>\n",
       "      <td>...</td>\n",
       "      <td>...</td>\n",
       "      <td>...</td>\n",
       "      <td>...</td>\n",
       "    </tr>\n",
       "    <tr>\n",
       "      <th>249</th>\n",
       "      <td>Babet</td>\n",
       "      <td>Brujon</td>\n",
       "      <td>1</td>\n",
       "      <td>0.618625</td>\n",
       "      <td>0.000000</td>\n",
       "      <td>False</td>\n",
       "      <td>False</td>\n",
       "      <td>True</td>\n",
       "      <td>0.001532</td>\n",
       "      <td>0.001347</td>\n",
       "      <td>0.000912</td>\n",
       "      <td>False</td>\n",
       "      <td>0.14102</td>\n",
       "    </tr>\n",
       "    <tr>\n",
       "      <th>250</th>\n",
       "      <td>Claquesous</td>\n",
       "      <td>Montparnasse</td>\n",
       "      <td>1</td>\n",
       "      <td>0.498530</td>\n",
       "      <td>0.000000</td>\n",
       "      <td>True</td>\n",
       "      <td>False</td>\n",
       "      <td>True</td>\n",
       "      <td>0.001340</td>\n",
       "      <td>0.001181</td>\n",
       "      <td>0.000808</td>\n",
       "      <td>False</td>\n",
       "      <td>0.15501</td>\n",
       "    </tr>\n",
       "    <tr>\n",
       "      <th>251</th>\n",
       "      <td>Claquesous</td>\n",
       "      <td>Brujon</td>\n",
       "      <td>1</td>\n",
       "      <td>0.618625</td>\n",
       "      <td>0.000000</td>\n",
       "      <td>True</td>\n",
       "      <td>False</td>\n",
       "      <td>True</td>\n",
       "      <td>0.001527</td>\n",
       "      <td>0.001336</td>\n",
       "      <td>0.000888</td>\n",
       "      <td>False</td>\n",
       "      <td>0.15074</td>\n",
       "    </tr>\n",
       "    <tr>\n",
       "      <th>252</th>\n",
       "      <td>Montparnasse</td>\n",
       "      <td>Brujon</td>\n",
       "      <td>1</td>\n",
       "      <td>0.618625</td>\n",
       "      <td>0.000000</td>\n",
       "      <td>True</td>\n",
       "      <td>True</td>\n",
       "      <td>True</td>\n",
       "      <td>0.001340</td>\n",
       "      <td>0.001181</td>\n",
       "      <td>0.000808</td>\n",
       "      <td>False</td>\n",
       "      <td>0.19093</td>\n",
       "    </tr>\n",
       "    <tr>\n",
       "      <th>253</th>\n",
       "      <td>Child1</td>\n",
       "      <td>Child2</td>\n",
       "      <td>3</td>\n",
       "      <td>0.400000</td>\n",
       "      <td>0.025974</td>\n",
       "      <td>False</td>\n",
       "      <td>False</td>\n",
       "      <td>True</td>\n",
       "      <td>0.000984</td>\n",
       "      <td>0.000984</td>\n",
       "      <td>0.000984</td>\n",
       "      <td>False</td>\n",
       "      <td>0.21521</td>\n",
       "    </tr>\n",
       "  </tbody>\n",
       "</table>\n",
       "<p>254 rows × 13 columns</p>\n",
       "</div>"
      ],
      "text/plain": [
       "           Source          Target  Weight  df_score  hss_score  dc_metric  \\\n",
       "0        Napoleon          Myriel       1  0.712010   1.000000       True   \n",
       "1          Myriel  MlleBaptistine       8  0.280277   0.116883       True   \n",
       "2          Myriel     MmeMagloire      10  0.224377   0.987013       True   \n",
       "3          Myriel    CountessDeLo       1  0.712010   1.000000       True   \n",
       "4          Myriel        Geborand       1  0.712010   1.000000       True   \n",
       "..            ...             ...     ...       ...        ...        ...   \n",
       "249         Babet          Brujon       1  0.618625   0.000000      False   \n",
       "250    Claquesous    Montparnasse       1  0.498530   0.000000       True   \n",
       "251    Claquesous          Brujon       1  0.618625   0.000000       True   \n",
       "252  Montparnasse          Brujon       1  0.618625   0.000000       True   \n",
       "253        Child1          Child2       3  0.400000   0.025974      False   \n",
       "\n",
       "     dc_ultrametric  ds_backbone  pf_04_score  pf_1_score  pf_4_score  \\\n",
       "0              True         True     0.001682    0.001476    0.000972   \n",
       "1              True         True     0.000068    0.000144    0.000253   \n",
       "2             False         True     0.000018    0.000065    0.000183   \n",
       "3              True         True     0.001682    0.001476    0.000972   \n",
       "4              True         True     0.001682    0.001476    0.000972   \n",
       "..              ...          ...          ...         ...         ...   \n",
       "249           False         True     0.001532    0.001347    0.000912   \n",
       "250           False         True     0.001340    0.001181    0.000808   \n",
       "251           False         True     0.001527    0.001336    0.000888   \n",
       "252            True         True     0.001340    0.001181    0.000808   \n",
       "253           False         True     0.000984    0.000984    0.000984   \n",
       "\n",
       "     h_backbone  infection_participation  \n",
       "0         False                  0.09185  \n",
       "1         False                  0.19966  \n",
       "2         False                  0.21552  \n",
       "3         False                  0.09178  \n",
       "4         False                  0.09183  \n",
       "..          ...                      ...  \n",
       "249       False                  0.14102  \n",
       "250       False                  0.15501  \n",
       "251       False                  0.15074  \n",
       "252       False                  0.19093  \n",
       "253       False                  0.21521  \n",
       "\n",
       "[254 rows x 13 columns]"
      ]
     },
     "execution_count": 26,
     "metadata": {},
     "output_type": "execute_result"
    }
   ],
   "source": [
    "results"
   ]
  },
  {
   "cell_type": "code",
   "execution_count": 33,
   "id": "e1c0f308",
   "metadata": {},
   "outputs": [
    {
     "data": {
      "text/html": [
       "<div>\n",
       "<style scoped>\n",
       "    .dataframe tbody tr th:only-of-type {\n",
       "        vertical-align: middle;\n",
       "    }\n",
       "\n",
       "    .dataframe tbody tr th {\n",
       "        vertical-align: top;\n",
       "    }\n",
       "\n",
       "    .dataframe thead th {\n",
       "        text-align: right;\n",
       "    }\n",
       "</style>\n",
       "<table border=\"1\" class=\"dataframe\">\n",
       "  <thead>\n",
       "    <tr style=\"text-align: right;\">\n",
       "      <th></th>\n",
       "      <th>source</th>\n",
       "      <th>target</th>\n",
       "      <th>ds_backbone</th>\n",
       "    </tr>\n",
       "  </thead>\n",
       "  <tbody>\n",
       "    <tr>\n",
       "      <th>0</th>\n",
       "      <td>MlleBaptistine</td>\n",
       "      <td>MmeMagloire</td>\n",
       "      <td>True</td>\n",
       "    </tr>\n",
       "    <tr>\n",
       "      <th>1</th>\n",
       "      <td>Jondrette</td>\n",
       "      <td>MmeBurgon</td>\n",
       "      <td>True</td>\n",
       "    </tr>\n",
       "    <tr>\n",
       "      <th>2</th>\n",
       "      <td>Child1</td>\n",
       "      <td>Child2</td>\n",
       "      <td>True</td>\n",
       "    </tr>\n",
       "    <tr>\n",
       "      <th>3</th>\n",
       "      <td>Perpetue</td>\n",
       "      <td>Simplice</td>\n",
       "      <td>True</td>\n",
       "    </tr>\n",
       "    <tr>\n",
       "      <th>4</th>\n",
       "      <td>MmePontmercy</td>\n",
       "      <td>Pontmercy</td>\n",
       "      <td>True</td>\n",
       "    </tr>\n",
       "    <tr>\n",
       "      <th>...</th>\n",
       "      <td>...</td>\n",
       "      <td>...</td>\n",
       "      <td>...</td>\n",
       "    </tr>\n",
       "    <tr>\n",
       "      <th>211</th>\n",
       "      <td>Claquesous</td>\n",
       "      <td>Valjean</td>\n",
       "      <td>True</td>\n",
       "    </tr>\n",
       "    <tr>\n",
       "      <th>212</th>\n",
       "      <td>Eponine</td>\n",
       "      <td>Mabeuf</td>\n",
       "      <td>True</td>\n",
       "    </tr>\n",
       "    <tr>\n",
       "      <th>213</th>\n",
       "      <td>Cosette</td>\n",
       "      <td>MlleGillenormand</td>\n",
       "      <td>True</td>\n",
       "    </tr>\n",
       "    <tr>\n",
       "      <th>214</th>\n",
       "      <td>Fantine</td>\n",
       "      <td>Javert</td>\n",
       "      <td>True</td>\n",
       "    </tr>\n",
       "    <tr>\n",
       "      <th>215</th>\n",
       "      <td>MlleBaptistine</td>\n",
       "      <td>Valjean</td>\n",
       "      <td>True</td>\n",
       "    </tr>\n",
       "  </tbody>\n",
       "</table>\n",
       "<p>216 rows × 3 columns</p>\n",
       "</div>"
      ],
      "text/plain": [
       "             source            target  ds_backbone\n",
       "0    MlleBaptistine       MmeMagloire         True\n",
       "1         Jondrette         MmeBurgon         True\n",
       "2            Child1            Child2         True\n",
       "3          Perpetue          Simplice         True\n",
       "4      MmePontmercy         Pontmercy         True\n",
       "..              ...               ...          ...\n",
       "211      Claquesous           Valjean         True\n",
       "212         Eponine            Mabeuf         True\n",
       "213         Cosette  MlleGillenormand         True\n",
       "214         Fantine            Javert         True\n",
       "215  MlleBaptistine           Valjean         True\n",
       "\n",
       "[216 rows x 3 columns]"
      ]
     },
     "execution_count": 33,
     "metadata": {},
     "output_type": "execute_result"
    }
   ],
   "source": [
    "ds_backbone[ds_backbone['ds_backbone']]"
   ]
  },
  {
   "cell_type": "code",
   "execution_count": null,
   "id": "0666e6d3",
   "metadata": {},
   "outputs": [],
   "source": []
  }
 ],
 "metadata": {
  "kernelspec": {
   "display_name": "Python 3 (ipykernel)",
   "language": "python",
   "name": "python3"
  },
  "language_info": {
   "codemirror_mode": {
    "name": "ipython",
    "version": 3
   },
   "file_extension": ".py",
   "mimetype": "text/x-python",
   "name": "python",
   "nbconvert_exporter": "python",
   "pygments_lexer": "ipython3",
   "version": "3.7.7"
  }
 },
 "nbformat": 4,
 "nbformat_minor": 5
}

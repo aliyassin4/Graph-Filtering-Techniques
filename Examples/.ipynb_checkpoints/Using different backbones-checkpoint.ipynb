{
 "cells": [
  {
   "cell_type": "markdown",
   "id": "6eca69f1",
   "metadata": {},
   "source": [
    "# Import Libraries"
   ]
  },
  {
   "cell_type": "code",
   "execution_count": 1,
   "id": "d2837800",
   "metadata": {},
   "outputs": [],
   "source": [
    "import os\n",
    "import sys\n",
    "nb_dir = os.path.split(os.getcwd())[0]\n",
    "if nb_dir not in sys.path:\n",
    "    sys.path.append(nb_dir)"
   ]
  },
  {
   "cell_type": "code",
   "execution_count": 2,
   "id": "d39ea3b0",
   "metadata": {},
   "outputs": [],
   "source": [
    "import pandas as pd\n",
    "import numpy as np\n",
    "import networkx as nx"
   ]
  },
  {
   "cell_type": "markdown",
   "id": "51137731",
   "metadata": {},
   "source": [
    "# Using the Disparity Filter"
   ]
  },
  {
   "cell_type": "code",
   "execution_count": 3,
   "id": "4dddd85e",
   "metadata": {},
   "outputs": [],
   "source": [
    "#import the disparity filter module\n",
    "from Backbones import disparity_filter as disf\n",
    "\n",
    "#read edge list from csv file\n",
    "edges_list = pd.read_csv('../Datasets/lesmis.csv')\n",
    "\n",
    "#create graph from the edge list\n",
    "G = nx.from_pandas_edgelist(edges_list, edge_attr='weight', create_using=nx.Graph())\n",
    "\n",
    "#apply the disparity filter algorithm\n",
    "backbone = disf.disparity_filter(G)\n",
    "\n",
    "#create an edge list from the result graph with the scores\n",
    "df_backbone = nx.to_pandas_edgelist(backbone)\n",
    "\n",
    "#save the edge list to visualize later\n",
    "df_backbone.to_csv('../Results/Backbones Results/lesmis_df_backbone.csv', index=False)"
   ]
  },
  {
   "cell_type": "markdown",
   "id": "d37ae7ab",
   "metadata": {},
   "source": [
    "# Using the Doubly Stochastic Filter"
   ]
  },
  {
   "cell_type": "code",
   "execution_count": 4,
   "id": "ae79de54",
   "metadata": {},
   "outputs": [],
   "source": [
    "#import the doubly stochastic filter module\n",
    "from Backbones.doubly_stochastic import read, doubly_stochastic as ds\n",
    "\n",
    "#read edge list from csv file using the doubly stochastic filter module\n",
    "table, nnodes, nnedges = read(\"../Datasets/lesmis.csv\", \"weight\", sep=',', consider_self_loops=False, triangular_input = True, undirected=True) \n",
    "\n",
    "#apply the doubly stochastic filter algorithm\n",
    "ds_backbone = ds(table, undirected = True, return_self_loops = False)\n",
    "\n",
    "#save the edge list to visualize later\n",
    "ds_backbone.to_csv('../Results/Backbones Results/lesmis_ds_backbone.csv', index=False)"
   ]
  },
  {
   "cell_type": "markdown",
   "id": "828f737f",
   "metadata": {},
   "source": [
    "# Using the High Salience Skeleton"
   ]
  },
  {
   "cell_type": "code",
   "execution_count": 5,
   "id": "bd644d06",
   "metadata": {},
   "outputs": [],
   "source": [
    "#import the high salience skeleton module\n",
    "from Backbones.high_salience_skeleton import read, high_salience_skeleton as hss\n",
    "\n",
    "#read edge list from csv file using the high salience skeleton module\n",
    "table, nnodes, nnedges = read(\"../Datasets/lesmis.csv\", \"weight\", sep=',', consider_self_loops=False, triangular_input = True, undirected=True) \n",
    "\n",
    "#apply the high salience skeleton algorithm\n",
    "hss_backbone = hss(table, return_self_loops=False, undirected=True)\n",
    "\n",
    "#save the edge list to visualize later\n",
    "hss_backbone.to_csv('../Results/Backbones Results/lesmis_hss_backbone.csv', index=False)"
   ]
  },
  {
   "cell_type": "markdown",
   "id": "fae159fd",
   "metadata": {},
   "source": [
    "# Using the Distance Closure"
   ]
  },
  {
   "cell_type": "code",
   "execution_count": 6,
   "id": "89a0abc1",
   "metadata": {},
   "outputs": [],
   "source": [
    "#import the distance closure modules\n",
    "from distanceclosure.utils import prox2dist, dist2prox\n",
    "from distanceclosure.distance import pairwise_proximity\n",
    "import distanceclosure as dc\n",
    "\n",
    "#read edge list from csv file\n",
    "edges_list = pd.read_csv('../Datasets/lesmis.csv')\n",
    "\n",
    "#create graph from the edge list\n",
    "labeled_G = nx.from_pandas_edgelist(edges_list, edge_attr='weight', create_using=nx.Graph())\n",
    "\n",
    "#convert node labels to integers and store the labels as attributes and get the label used for mapping later\n",
    "G = nx.convert_node_labels_to_integers(G, label_attribute='name')\n",
    "mapping_lables = nx.get_node_attributes(G, name='name')\n",
    "\n",
    "#create the adjacency matrix of the graph\n",
    "W = nx.adjacency_matrix(G).todense()\n",
    "\n",
    "#calculate the proximity matrix using the weighted jaccard algorithm\n",
    "P = pairwise_proximity(W, metric='jaccard_weighted')\n",
    "\n",
    "#convert the proximity matrix to a distance matrix\n",
    "D = np.vectorize(prox2dist)(P)\n",
    "\n",
    "#create a distance graph from the distance matrix containing only the edges observed in the original network\n",
    "DG = nx.from_numpy_matrix(D)\n",
    "for u,v in DG.edges():\n",
    "    edge = (u,v)\n",
    "    if edge not in G.edges():\n",
    "        DG.remove_edge(u, v)\n",
    "\n",
    "#apply the distance closure algorithm to obtain the metric and ultrametric backbones\n",
    "m_backbone = dc.distance_closure(DG, kind='metric', weight='weight', only_backbone=True)\n",
    "um_backbone = dc.distance_closure(DG, kind='ultrametric', weight='weight', only_backbone=True)\n",
    "\n",
    "#relabel the graphs with the original labels\n",
    "m_backbone = nx.relabel_nodes(m_backbone, mapping_lables)\n",
    "um_backbone = nx.relabel_nodes(um_backbone, mapping_lables)\n",
    "\n",
    "#create an edge list from the result graph with a boolean value that shows if an edge is metric or not\n",
    "metric_backbone = nx.to_pandas_edgelist(m_backbone)\n",
    "ultrametric_backbone = nx.to_pandas_edgelist(um_backbone)\n",
    "\n",
    "#save the edge list to visualize later\n",
    "metric_backbone.to_csv('../Results/Backbones Results/lesmis_metric_backbone.csv', index=False)\n",
    "ultrametric_backbone.to_csv('../Results/Backbones Results/lesmis_ultrametric_backbone.csv', index=False)"
   ]
  },
  {
   "cell_type": "markdown",
   "id": "b51f3c19",
   "metadata": {},
   "source": [
    "# Process and Merge the results to Analyze in Gephi"
   ]
  },
  {
   "cell_type": "code",
   "execution_count": 7,
   "id": "e4321d6f",
   "metadata": {},
   "outputs": [],
   "source": [
    "final_G = nx.from_pandas_edgelist(edges_list, edge_attr='weight', create_using=nx.Graph())"
   ]
  },
  {
   "cell_type": "code",
   "execution_count": 8,
   "id": "90cf8fc7",
   "metadata": {},
   "outputs": [],
   "source": [
    "df_backbone = df_backbone.drop(columns=['weight'])\n",
    "df_backbone = df_backbone.reindex(columns=['source', 'target', 'alpha'])"
   ]
  },
  {
   "cell_type": "code",
   "execution_count": 9,
   "id": "33b77944",
   "metadata": {},
   "outputs": [],
   "source": [
    "nx.set_edge_attributes(final_G, {(row[0],row[1]):{'df_score':row[2]} for index, row in df_backbone.iterrows()})"
   ]
  },
  {
   "cell_type": "code",
   "execution_count": 10,
   "id": "5f30ac32",
   "metadata": {},
   "outputs": [],
   "source": [
    "ds_backbone = ds_backbone.drop(columns=['nij','score'])\n",
    "ds_backbone = ds_backbone.reindex(columns=['source', 'target','ds_backbone'])"
   ]
  },
  {
   "cell_type": "code",
   "execution_count": 11,
   "id": "86ce6f20",
   "metadata": {},
   "outputs": [],
   "source": [
    "nx.set_edge_attributes(final_G, {(row[0],row[1]):{'ds_backbone':row[2]} for index, row in ds_backbone.iterrows()})"
   ]
  },
  {
   "cell_type": "code",
   "execution_count": 12,
   "id": "424a16e8",
   "metadata": {},
   "outputs": [],
   "source": [
    "hss_backbone = hss_backbone.drop(columns=['nij'])\n",
    "hss_backbone = hss_backbone.reindex(columns=['source', 'target', 'score'])"
   ]
  },
  {
   "cell_type": "code",
   "execution_count": 13,
   "id": "737e01b1",
   "metadata": {},
   "outputs": [],
   "source": [
    "nx.set_edge_attributes(final_G, {(row[0],row[1]):{'hss_score':row[2]} for index, row in hss_backbone.iterrows()})"
   ]
  },
  {
   "cell_type": "code",
   "execution_count": 14,
   "id": "1d3ed025",
   "metadata": {},
   "outputs": [],
   "source": [
    "metric_backbone = metric_backbone.drop(columns=['metric_distance', 'weight'])\n",
    "metric_backbone = metric_backbone.reindex(columns=['source', 'target', 'is_metric'])"
   ]
  },
  {
   "cell_type": "code",
   "execution_count": 15,
   "id": "51fbea8e",
   "metadata": {},
   "outputs": [],
   "source": [
    "nx.set_edge_attributes(final_G, {(row[0],row[1]):{'dc_metric':row[2]} for index, row in metric_backbone.iterrows()})"
   ]
  },
  {
   "cell_type": "code",
   "execution_count": 16,
   "id": "67c2e882",
   "metadata": {},
   "outputs": [],
   "source": [
    "ultrametric_backbone = ultrametric_backbone.drop(columns=['ultrametric_distance', 'weight'])\n",
    "ultrametric_backbone = ultrametric_backbone.reindex(columns=['source', 'target', 'is_ultrametric'])"
   ]
  },
  {
   "cell_type": "code",
   "execution_count": 17,
   "id": "f7c58264",
   "metadata": {},
   "outputs": [],
   "source": [
    "nx.set_edge_attributes(final_G, {(row[0],row[1]):{'dc_ultrametric':row[2]} for index, row in ultrametric_backbone.iterrows()})"
   ]
  },
  {
   "cell_type": "code",
   "execution_count": 18,
   "id": "f34a959d",
   "metadata": {},
   "outputs": [],
   "source": [
    "results = nx.to_pandas_edgelist(final_G)\n",
    "results.rename(columns = {'source':'Source', 'target':'Target', 'weight': 'Weight'}, inplace = True)\n",
    "results = results.reindex(columns=['Source', 'Target', 'Weight', 'df_score', 'hss_score', 'dc_metric', 'dc_ultrametric', 'ds_backbone'])"
   ]
  },
  {
   "cell_type": "code",
   "execution_count": 19,
   "id": "2a1b5f9d",
   "metadata": {},
   "outputs": [],
   "source": [
    "results.to_csv('../Results/merged.csv', index=False)"
   ]
  },
  {
   "cell_type": "code",
   "execution_count": null,
   "id": "cb993a4e",
   "metadata": {},
   "outputs": [],
   "source": []
  }
 ],
 "metadata": {
  "kernelspec": {
   "display_name": "Python 3 (ipykernel)",
   "language": "python",
   "name": "python3"
  },
  "language_info": {
   "codemirror_mode": {
    "name": "ipython",
    "version": 3
   },
   "file_extension": ".py",
   "mimetype": "text/x-python",
   "name": "python",
   "nbconvert_exporter": "python",
   "pygments_lexer": "ipython3",
   "version": "3.7.7"
  }
 },
 "nbformat": 4,
 "nbformat_minor": 5
}

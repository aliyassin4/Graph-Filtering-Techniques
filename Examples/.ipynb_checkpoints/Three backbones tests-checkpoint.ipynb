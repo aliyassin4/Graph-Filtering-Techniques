{
 "cells": [
  {
   "cell_type": "markdown",
   "id": "fd09e1e7",
   "metadata": {},
   "source": [
    "# Import Libraries"
   ]
  },
  {
   "cell_type": "code",
   "execution_count": 1,
   "id": "fd3369cc",
   "metadata": {},
   "outputs": [],
   "source": [
    "import community.community_louvain as community\n",
    "import matplotlib.pyplot as plt\n",
    "import seaborn as sns\n",
    "import networkx as nx\n",
    "import pandas as pd\n",
    "import numpy as np\n",
    "import math\n",
    "\n",
    "\n",
    "import os, sys\n",
    "nb_dir = os.path.split(os.getcwd())[0]\n",
    "if nb_dir not in sys.path:\n",
    "    sys.path.append(nb_dir)\n",
    "    \n",
    "from Utils.utils import shannon_entropy, extract_backbones_and_measures, extract_measures\n",
    "from Backbones.high_salience_skeleton import high_salience_skeleton as hss\n",
    "from Backbones.doubly_stochastic import read#, doubly_stochastic as ds\n",
    "from Backbones.marginal_likelihood_filter import MLF\n",
    "from Backbones import disparity_filter as disf\n",
    "from Backbones import h_backbone as hb\n",
    "#from Backbones import marginal_likelihood_filter as ml\n",
    "from Backbones.noise_corrected import noise_corrected as nc\n",
    "from Utils.portrait_divergence import portrait_divergence, portrait_divergence_weighted\n",
    "%matplotlib inline"
   ]
  },
  {
   "cell_type": "markdown",
   "id": "0d190d91",
   "metadata": {},
   "source": [
    "# Import the network"
   ]
  },
  {
   "cell_type": "code",
   "execution_count": 2,
   "id": "e8e2198d",
   "metadata": {},
   "outputs": [],
   "source": [
    "#initialize the network name \n",
    "network= 'got'\n",
    "\n",
    "#read edge list from csv file\n",
    "edge_list = pd.read_csv('../Datasets/' + network + '.csv')\n",
    "\n",
    "#read edge list from csv file for the doubly stochastic filter, noice corrected and the high salience skeleton\n",
    "table, nnodes, nnedges = read(\"../Datasets/\" + network + '.csv', \"weight\", sep=',', consider_self_loops=False, triangular_input = True, undirected=True) \n",
    "    \n",
    "#create graph from the edge list\n",
    "G = nx.from_pandas_edgelist(edge_list, edge_attr='weight', create_using=nx.Graph())"
   ]
  },
  {
   "cell_type": "markdown",
   "id": "0a1ce36f",
   "metadata": {},
   "source": [
    "## Global Threshold"
   ]
  },
  {
   "cell_type": "code",
   "execution_count": 5,
   "id": "ac7e2335",
   "metadata": {},
   "outputs": [],
   "source": [
    "#sort edges by weight\n",
    "backbone = edge_list.copy()\n",
    "backbone = backbone.sort_values(by='weight', ascending=False)\n",
    "backbone['threshold'] = backbone['weight']\n"
   ]
  },
  {
   "cell_type": "markdown",
   "id": "48ab7d7a",
   "metadata": {},
   "source": [
    "## The Disparity Filter Backbone"
   ]
  },
  {
   "cell_type": "code",
   "execution_count": 6,
   "id": "839460a9",
   "metadata": {},
   "outputs": [],
   "source": [
    "#apply the disparity filter algorithm\n",
    "backbone = disf.disparity_filter(G)\n",
    "\n",
    "#convert the graph to a dataframe for processing and sort the values by the alpha value\n",
    "df_backbone = nx.to_pandas_edgelist(backbone)\n",
    "df_backbone = df_backbone.rename(columns={'alpha': 'p-value'})\n",
    "df_backbone = df_backbone.sort_values(by='p-value')\n"
   ]
  },
  {
   "cell_type": "markdown",
   "id": "21fd29e3",
   "metadata": {},
   "source": [
    "## The High Saleince Skeleton"
   ]
  },
  {
   "cell_type": "code",
   "execution_count": 7,
   "id": "047e75e3",
   "metadata": {},
   "outputs": [],
   "source": [
    "#apply the high salience skeleton algorithm\n",
    "hss_backbone = hss(table, return_self_loops=False, undirected=True)\n",
    "    \n",
    "#sort score values of the edges\n",
    "hss_backbone = hss_backbone.rename(columns={'score': 'threshold'})\n",
    "hss_backbone = hss_backbone.sort_values(by='threshold', ascending=False)"
   ]
  },
  {
   "cell_type": "markdown",
   "id": "67c14cae",
   "metadata": {},
   "source": [
    "## The Noise-Corrected Filter"
   ]
  },
  {
   "cell_type": "code",
   "execution_count": 9,
   "id": "7a4c100b",
   "metadata": {},
   "outputs": [],
   "source": [
    "#apply the noise corrected filter\n",
    "nc_backbone = nc(table, undirected = True, return_self_loops = False, calculate_p_value = False)\n",
    "nc_backbone['threshold'] = nc_backbone[\"score\"] - (1 * nc_backbone[\"sdev_cij\"])\n",
    "\n",
    "#sort score values of the edges and take only positive values\n",
    "nc_backbone = nc_backbone.sort_values(by='threshold', ascending=False)\n"
   ]
  },
  {
   "cell_type": "code",
   "execution_count": null,
   "id": "c48c5126",
   "metadata": {},
   "outputs": [],
   "source": []
  },
  {
   "cell_type": "code",
   "execution_count": null,
   "id": "218c4f99",
   "metadata": {},
   "outputs": [],
   "source": []
  },
  {
   "cell_type": "code",
   "execution_count": null,
   "id": "0a5a6757",
   "metadata": {},
   "outputs": [],
   "source": []
  },
  {
   "cell_type": "code",
   "execution_count": null,
   "id": "b157483e",
   "metadata": {},
   "outputs": [],
   "source": []
  },
  {
   "cell_type": "code",
   "execution_count": null,
   "id": "beb30439",
   "metadata": {},
   "outputs": [],
   "source": []
  },
  {
   "cell_type": "code",
   "execution_count": null,
   "id": "e553b276",
   "metadata": {},
   "outputs": [],
   "source": []
  }
 ],
 "metadata": {
  "kernelspec": {
   "display_name": "Python [conda env:python3.7.7-env]",
   "language": "python",
   "name": "conda-env-python3.7.7-env-py"
  },
  "language_info": {
   "codemirror_mode": {
    "name": "ipython",
    "version": 3
   },
   "file_extension": ".py",
   "mimetype": "text/x-python",
   "name": "python",
   "nbconvert_exporter": "python",
   "pygments_lexer": "ipython3",
   "version": "3.7.7"
  }
 },
 "nbformat": 4,
 "nbformat_minor": 5
}

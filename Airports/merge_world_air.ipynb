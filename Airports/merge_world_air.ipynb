{
 "cells": [
  {
   "cell_type": "markdown",
   "id": "cf991822-c2e6-4eaf-ae8a-feb026bdc2ab",
   "metadata": {},
   "source": [
    "### upload the csv files"
   ]
  },
  {
   "cell_type": "code",
   "execution_count": 1,
   "id": "74f8b02a",
   "metadata": {},
   "outputs": [],
   "source": [
    "import pandas as pd\n",
    "import numpy as np\n",
    "import networkx as nx\n",
    "import matplotlib.pyplot as plt\n",
    "import numpy as np"
   ]
  },
  {
   "cell_type": "code",
   "execution_count": 2,
   "id": "3d11f2a3-58b4-4381-8651-f993c24692ff",
   "metadata": {},
   "outputs": [],
   "source": [
    "df_node_label = pd.read_csv('node_label.csv')\n",
    "df_airport = pd.read_csv('../Results/All Backbones/airports.csv')#('w_airport_network.csv')\n",
    "df_city = pd.read_csv('airport_loc.csv')"
   ]
  },
  {
   "cell_type": "code",
   "execution_count": 3,
   "id": "ed094ff4",
   "metadata": {},
   "outputs": [],
   "source": [
    "edge_attributes = list(df_airport.columns.values)\n",
    "edge_attributes.remove('source')\n",
    "edge_attributes.remove('target')"
   ]
  },
  {
   "cell_type": "code",
   "execution_count": 4,
   "id": "63877c61",
   "metadata": {},
   "outputs": [],
   "source": [
    "#df_airport.columns = ['source', 'target', 'weight']\n",
    "G = nx.from_pandas_edgelist(df_airport, edge_attr=edge_attributes)"
   ]
  },
  {
   "cell_type": "markdown",
   "id": "1e4edfd4-54ea-4ff6-884c-cce96a5d3a92",
   "metadata": {},
   "source": [
    "### Merge the csv files\n",
    "### G_G is the world air transportation network generated from the df_airport"
   ]
  },
  {
   "cell_type": "code",
   "execution_count": 5,
   "id": "bfcaf290-ceba-4e63-9c83-5b381e78feb0",
   "metadata": {},
   "outputs": [],
   "source": [
    "df_node_degree = pd.DataFrame(G.degree, columns=['IDS', 'degree'])\n",
    "df_node_degree = df_node_degree.merge(pd.DataFrame(G.degree(weight='weight'), columns=['IDS', 'w_degree']))\n",
    "df_node_degree = df_node_degree.merge(df_node_label[['id', 'Label']], left_on='IDS' ,right_on='id')\n",
    "df_node_degree = df_city[['ICAO','IATA','Latitude','Longitude','Name','City','Country']]\\\n",
    "                    .merge(df_node_degree, left_on='ICAO', right_on='Label').sort_values(by=['w_degree'], ascending=False)\n",
    "df_node_degree = df_node_degree.reset_index(drop=True)"
   ]
  },
  {
   "cell_type": "code",
   "execution_count": 8,
   "id": "d5a80307",
   "metadata": {},
   "outputs": [],
   "source": [
    "df = df_node_degree.drop(columns=['ICAO', 'IDS', 'degree', 'w_degree']).set_index('id')"
   ]
  },
  {
   "cell_type": "code",
   "execution_count": 9,
   "id": "020335bf",
   "metadata": {},
   "outputs": [],
   "source": [
    "df.to_csv('airports_lables.csv')"
   ]
  },
  {
   "cell_type": "code",
   "execution_count": null,
   "id": "45669553",
   "metadata": {},
   "outputs": [],
   "source": []
  }
 ],
 "metadata": {
  "interpreter": {
   "hash": "23f0df36b9e21e5efa1e1be1bbc2654d2921f1d64451a6633a1922d70ec111e6"
  },
  "kernelspec": {
   "display_name": "Python 3.7.7 ('python3.7.7-env')",
   "language": "python",
   "name": "python3"
  },
  "language_info": {
   "codemirror_mode": {
    "name": "ipython",
    "version": 3
   },
   "file_extension": ".py",
   "mimetype": "text/x-python",
   "name": "python",
   "nbconvert_exporter": "python",
   "pygments_lexer": "ipython3",
   "version": "3.7.7"
  }
 },
 "nbformat": 4,
 "nbformat_minor": 5
}

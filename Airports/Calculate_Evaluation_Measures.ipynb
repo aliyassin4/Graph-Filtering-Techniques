{
 "cells": [
  {
   "cell_type": "markdown",
   "metadata": {},
   "source": [
    "# Import Libraries"
   ]
  },
  {
   "cell_type": "code",
   "execution_count": 1,
   "metadata": {},
   "outputs": [],
   "source": [
    "import networkx as nx\n",
    "import pandas as pd\n",
    "\n",
    "import os, sys\n",
    "nb_dir = os.path.split(os.getcwd())[0]\n",
    "if nb_dir not in sys.path:\n",
    "    sys.path.append(nb_dir)\n",
    "\n",
    "\n",
    "from Utils import evaluation_measures as ev\n",
    "from Utils import code_utils as cu"
   ]
  },
  {
   "cell_type": "code",
   "execution_count": 2,
   "metadata": {},
   "outputs": [],
   "source": [
    "network = 'airports'\n",
    "results = pd.read_csv('../Results/All Backbones/' + network + '.csv')\n",
    "fractions = [0.02, 0.04, 0.06, 0.08, 0.1 , 0.12, 0.14, 0.16, 0.18, 0.2 , 0.22, 0.24, 0.25, 0.26, 0.28, 0.3 , 0.32, 0.34, 0.36, 0.38, 0.4, 0.5, 0.6, 0.7, 0.75, 0.8, 0.9, 1]\n",
    "G = nx.from_pandas_edgelist(results[['source', 'target', 'weight']], edge_attr='weight')"
   ]
  },
  {
   "cell_type": "markdown",
   "metadata": {},
   "source": [
    "# Calculate Global Topological Properties of the Original Network (Baseline)"
   ]
  },
  {
   "cell_type": "code",
   "execution_count": 3,
   "metadata": {},
   "outputs": [],
   "source": [
    "evaluation_measures_all_backbones = dict()"
   ]
  },
  {
   "cell_type": "code",
   "execution_count": 4,
   "metadata": {},
   "outputs": [],
   "source": [
    "values = dict()\n",
    "\n",
    "G = ev.get_lcc(G)\n",
    "values['node fraction'] = [ev.get_node_fraction(G, G)]*len(fractions)\n",
    "values['edge fraction'] = [ev.get_edge_fraction(G, G)]*len(fractions)\n",
    "    \n",
    "#values['diameter']  = [ev.get_diameter(G)]*len(fractions)\n",
    "values['density'] = [ev.get_density(G)]*len(fractions)\n",
    "\n",
    "values['degree assortativity'] = [ev.get_degree_assortativity(G)]*len(fractions)\n",
    "values['weighted degree assortativity'] = [ev.get_weighted_degree_assortativity(G)]*len(fractions)\n",
    "\n",
    "values['number of connected components'] = [ev.get_number_connected_components(G)]*len(fractions)\n",
    "values['LCC size'] = [ev.get_lcc_percentage(G)]*len(fractions)\n",
    "\n",
    "# values['average degree'] = [ev.get_average_degree(G)]*len(fractions)\n",
    "# values['average weighted degree'] = [ev.get_average_weighted_degree(G)]*len(fractions)\n",
    "# values['average edge weight'] = [ev.get_average_edge_weight(G)]*len(fractions)\n",
    "\n",
    "# values['average clustering'] = [ev.get_average_clustering(G)]*len(fractions)\n",
    "# values['weighted average clustering'] = [ev.get_weighted_average_clustering(G)]*len(fractions)\n",
    "\n",
    "# values['average edge betweenness'] = [ev.get_average_edge_betweenness(G)]*len(fractions)\n",
    "# values['average weighted edge betweenness'] = [ev.get_average_weighted_edge_betweenness(G)]*len(fractions)\n",
    "\n",
    "# values['average shortest path length'] = [ev.get_average_shortest_path_length(G)]*len(fractions)\n",
    "# values['average weighted shortest path length'] = [ev.get_weighted_average_shortest_path_length(G)]*len(fractions)\n",
    "\n",
    "#values['weighted_modularity'] = [ev.get_weighted_modularity(G)]*len(fractions)\n",
    "\n",
    "evaluation_measures_all_backbones['original'] = pd.DataFrame.from_dict(values, orient='index' ,columns=fractions)\n"
   ]
  },
  {
   "cell_type": "markdown",
   "metadata": {},
   "source": [
    "# Calculate Global Toplogical Properties for the backbones "
   ]
  },
  {
   "cell_type": "code",
   "execution_count": 5,
   "metadata": {},
   "outputs": [],
   "source": [
    "names = list(results.columns[:])\n",
    "names.remove('source')\n",
    "names.remove('target')\n",
    "names.remove('weight')\n"
   ]
  },
  {
   "cell_type": "code",
   "execution_count": 6,
   "metadata": {},
   "outputs": [],
   "source": [
    "for backbone_name in names:\n",
    "\n",
    "    # initalize backbone measures dataframe\n",
    "    backbone_measures = pd.DataFrame()\n",
    "\n",
    "    # extract backbone results to evaluate\n",
    "    backbone_res = results[['source', 'target', 'weight', backbone_name]]\n",
    "\n",
    "    if 'alpha' in backbone_name:\n",
    "        backbone_res = backbone_res.sort_values(by=[backbone_name, 'weight'], ascending=[True, False])\n",
    "\n",
    "    else:\n",
    "        backbone_res = backbone_res.sort_values(by=[backbone_name, 'weight'], ascending=[False, False])\n",
    "\n",
    "    values = dict()\n",
    "    for fraction in fractions:\n",
    "        backbone = nx.from_pandas_edgelist(backbone_res[:int(fraction*results.shape[0])], edge_attr='weight')\n",
    "        \n",
    "        values['node fraction'] = ev.get_node_fraction(backbone, G)\n",
    "        values['edge fraction'] = ev.get_edge_fraction(backbone, G)\n",
    "\n",
    "        #values['diameter']  = ev.get_diameter(backbone)\n",
    "        values['density'] = ev.get_density(backbone)\n",
    "\n",
    "        values['degree assortativity'] = ev.get_degree_assortativity(backbone)\n",
    "        values['weighted degree assortativity'] = ev.get_weighted_degree_assortativity(backbone)\n",
    "\n",
    "        values['number of connected components'] = ev.get_number_connected_components(backbone)\n",
    "        values['LCC size'] = ev.get_lcc_percentage(backbone)\n",
    "\n",
    "                \n",
    "        # values['average degree'] = ev.get_average_degree(backbone)\n",
    "        # values['average weighted degree'] = ev.get_average_weighted_degree(backbone)\n",
    "        # values['average edge weight'] = ev.get_average_edge_weight(backbone)\n",
    "\n",
    "        # values['average clustering'] = ev.get_average_clustering(backbone)\n",
    "        # values['weighted average clustering'] = ev.get_weighted_average_clustering(backbone)\n",
    "\n",
    "        # values['average edge betweenness'] = ev.get_average_edge_betweenness(backbone)\n",
    "        # values['average weighted edge betweenness'] = ev.get_average_weighted_edge_betweenness(backbone)\n",
    "\n",
    "        # values['average shortest path length'] = ev.get_average_shortest_path_length(backbone)\n",
    "        # values['average weighted shortest path length'] = ev.get_weighted_average_shortest_path_length(backbone)\n",
    "        \n",
    "        #values['weighted_modularity'] = ev.get_weighted_modularity(G)\n",
    "\n",
    "        backbone_measures[fraction] = values.values()\n",
    "\n",
    "    backbone_measures.index = values.keys()\n",
    "    evaluation_measures_all_backbones[backbone_name] = backbone_measures\n",
    "    "
   ]
  },
  {
   "cell_type": "code",
   "execution_count": 7,
   "metadata": {},
   "outputs": [],
   "source": [
    "cu.save_obj(evaluation_measures_all_backbones, '../Results/Variables/Evaluation Measures/' + network +'/', 'all-components-properties-'+network)"
   ]
  },
  {
   "cell_type": "code",
   "execution_count": null,
   "metadata": {},
   "outputs": [],
   "source": []
  },
  {
   "cell_type": "markdown",
   "metadata": {},
   "source": [
    "# Calculate Global Topological Properties of the Original Network (Baseline)"
   ]
  },
  {
   "cell_type": "code",
   "execution_count": 8,
   "metadata": {},
   "outputs": [],
   "source": [
    "evaluation_measures_all_backbones = dict()"
   ]
  },
  {
   "cell_type": "code",
   "execution_count": 9,
   "metadata": {},
   "outputs": [],
   "source": [
    "values = dict()\n",
    "\n",
    "G = ev.get_lcc(G)\n",
    "values['node fraction'] = [ev.get_node_fraction(G, G)]*len(fractions)\n",
    "values['edge fraction'] = [ev.get_edge_fraction(G, G)]*len(fractions)\n",
    "    \n",
    "values['diameter']  = [ev.get_diameter(G)]*len(fractions)\n",
    "values['density'] = [ev.get_density(G)]*len(fractions)\n",
    "\n",
    "values['degree assortativity'] = [ev.get_degree_assortativity(G)]*len(fractions)\n",
    "values['weighted degree assortativity'] = [ev.get_weighted_degree_assortativity(G)]*len(fractions)\n",
    "\n",
    "#values['number of connected components'] = [ev.get_number_connected_components(G)]*len(fractions)\n",
    "\n",
    "# values['average degree'] = [ev.get_average_degree(G)]*len(fractions)\n",
    "# values['average weighted degree'] = [ev.get_average_weighted_degree(G)]*len(fractions)\n",
    "# values['average edge weight'] = [ev.get_average_edge_weight(G)]*len(fractions)\n",
    "\n",
    "# values['average clustering'] = [ev.get_average_clustering(G)]*len(fractions)\n",
    "# values['weighted average clustering'] = [ev.get_weighted_average_clustering(G)]*len(fractions)\n",
    "\n",
    "# values['average edge betweenness'] = [ev.get_average_edge_betweenness(G)]*len(fractions)\n",
    "# values['average weighted edge betweenness'] = [ev.get_average_weighted_edge_betweenness(G)]*len(fractions)\n",
    "\n",
    "# values['average shortest path length'] = [ev.get_average_shortest_path_length(G)]*len(fractions)\n",
    "# values['average weighted shortest path length'] = [ev.get_weighted_average_shortest_path_length(G)]*len(fractions)\n",
    "\n",
    "#values['weighted_modularity'] = [ev.get_weighted_modularity(G)]*len(fractions)\n",
    "\n",
    "evaluation_measures_all_backbones['original'] = pd.DataFrame.from_dict(values, orient='index' ,columns=fractions)\n"
   ]
  },
  {
   "cell_type": "code",
   "execution_count": null,
   "metadata": {},
   "outputs": [],
   "source": []
  },
  {
   "cell_type": "markdown",
   "metadata": {},
   "source": [
    "# Calculate Global Toplogical Properties for the LCC in the backbones "
   ]
  },
  {
   "cell_type": "code",
   "execution_count": 10,
   "metadata": {},
   "outputs": [],
   "source": [
    "for backbone_name in names:\n",
    "\n",
    "    # initalize backbone measures dataframe\n",
    "    backbone_measures = pd.DataFrame()\n",
    "\n",
    "    # extract backbone results to evaluate\n",
    "    backbone_res = results[['source', 'target', 'weight', backbone_name]]\n",
    "\n",
    "    if 'alpha' in backbone_name:\n",
    "        backbone_res = backbone_res.sort_values(by=[backbone_name, 'weight'], ascending=[True, False])\n",
    "\n",
    "    else:\n",
    "        backbone_res = backbone_res.sort_values(by=[backbone_name, 'weight'], ascending=[False, False])\n",
    "\n",
    "    values = dict()\n",
    "    for fraction in fractions:\n",
    "        backbone = nx.from_pandas_edgelist(backbone_res[:int(fraction*results.shape[0])], edge_attr='weight')\n",
    "        \n",
    "        backbone = ev.get_lcc(backbone)\n",
    "        values['node fraction'] = ev.get_node_fraction(backbone, G)\n",
    "        values['edge fraction'] = ev.get_edge_fraction(backbone, G)\n",
    "\n",
    "        values['diameter']  = ev.get_diameter(backbone)\n",
    "        values['density'] = ev.get_density(backbone)\n",
    "\n",
    "        values['degree assortativity'] = ev.get_degree_assortativity(backbone)\n",
    "        values['weighted degree assortativity'] = ev.get_weighted_degree_assortativity(backbone)\n",
    "\n",
    "        #values['number of connected components'] = ev.get_number_connected_components(backbone)\n",
    "\n",
    "                \n",
    "        # values['average degree'] = ev.get_average_degree(backbone)\n",
    "        # values['average weighted degree'] = ev.get_average_weighted_degree(backbone)\n",
    "        # values['average edge weight'] = ev.get_average_edge_weight(backbone)\n",
    "\n",
    "        # values['average clustering'] = ev.get_average_clustering(backbone)\n",
    "        # values['weighted average clustering'] = ev.get_weighted_average_clustering(backbone)\n",
    "\n",
    "        # values['average edge betweenness'] = ev.get_average_edge_betweenness(backbone)\n",
    "        # values['average weighted edge betweenness'] = ev.get_average_weighted_edge_betweenness(backbone)\n",
    "\n",
    "        # values['average shortest path length'] = ev.get_average_shortest_path_length(backbone)\n",
    "        # values['average weighted shortest path length'] = ev.get_weighted_average_shortest_path_length(backbone)\n",
    "        \n",
    "        #values['weighted_modularity'] = ev.get_weighted_modularity(G)\n",
    "\n",
    "        backbone_measures[fraction] = values.values()\n",
    "\n",
    "    backbone_measures.index = values.keys()\n",
    "    evaluation_measures_all_backbones[backbone_name] = backbone_measures\n",
    "    "
   ]
  },
  {
   "cell_type": "code",
   "execution_count": 11,
   "metadata": {},
   "outputs": [],
   "source": [
    "cu.save_obj(evaluation_measures_all_backbones, '../Results/Variables/Evaluation Measures/' + network +'/', 'lcc-properties-'+network)"
   ]
  },
  {
   "cell_type": "code",
   "execution_count": 12,
   "metadata": {},
   "outputs": [],
   "source": [
    "g = nx.Graph()\n",
    "\n",
    "g.add_edge(1,2)\n",
    "g.add_edge(1,6)\n",
    "g.add_edge(1,5)\n",
    "g.add_edge(1,4)\n",
    "g.add_edge(1,3)\n",
    "\n",
    "g.add_edge(7,8)"
   ]
  },
  {
   "cell_type": "code",
   "execution_count": null,
   "metadata": {},
   "outputs": [],
   "source": []
  },
  {
   "cell_type": "code",
   "execution_count": null,
   "metadata": {},
   "outputs": [],
   "source": []
  },
  {
   "cell_type": "code",
   "execution_count": null,
   "metadata": {},
   "outputs": [],
   "source": []
  }
 ],
 "metadata": {
  "interpreter": {
   "hash": "23f0df36b9e21e5efa1e1be1bbc2654d2921f1d64451a6633a1922d70ec111e6"
  },
  "kernelspec": {
   "display_name": "Python 3.7.7 ('python3.7.7-env')",
   "language": "python",
   "name": "python3"
  },
  "language_info": {
   "codemirror_mode": {
    "name": "ipython",
    "version": 3
   },
   "file_extension": ".py",
   "mimetype": "text/x-python",
   "name": "python",
   "nbconvert_exporter": "python",
   "pygments_lexer": "ipython3",
   "version": "3.7.7"
  },
  "orig_nbformat": 4
 },
 "nbformat": 4,
 "nbformat_minor": 2
}

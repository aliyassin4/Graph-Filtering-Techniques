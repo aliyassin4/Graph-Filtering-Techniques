{
 "cells": [
  {
   "cell_type": "code",
   "execution_count": 29,
   "metadata": {},
   "outputs": [
    {
     "name": "stdout",
     "output_type": "stream",
     "text": [
      "nc_score\n"
     ]
    }
   ],
   "source": [
    "# Import those libraries\n",
    "from scipy.stats import pearsonr\n",
    "import networkx as nx\n",
    "import pandas as pd\n",
    "\n",
    "network = 'airports'\n",
    "results = pd.read_csv('../Results/All Backbones/Airports/' + network + '.csv')\n",
    "\n",
    "# Import the sir simulations results\n",
    "sir_results = pd.read_csv(\"../Results/Epidemic Simulations Resutls/\" +network+ \".csv\")\n",
    "\n",
    "#initialize the correlation dataframe\n",
    "df = pd.DataFrame(columns=results.keys()[3:], index=['infection_participation'])\n",
    "\n",
    "#add the infection participation to the backbone graphs\n",
    "for backbone in results.keys()[3:]:\n",
    "    results = results.sort_values(by=backbone, ascending= 'alpha' in backbone)\n",
    "    backbone_scores = results[results[backbone].notnull()][backbone]\n",
    "\n",
    "    sir_scores = sir_results['infection_participation']\n",
    "    try:\n",
    "        df[backbone] = [pearsonr(backbone_scores, sir_scores)[0]]    \n",
    "    except:\n",
    "        print(backbone)\n",
    "    "
   ]
  },
  {
   "cell_type": "code",
   "execution_count": 30,
   "metadata": {},
   "outputs": [
    {
     "data": {
      "text/html": [
       "<div>\n",
       "<style scoped>\n",
       "    .dataframe tbody tr th:only-of-type {\n",
       "        vertical-align: middle;\n",
       "    }\n",
       "\n",
       "    .dataframe tbody tr th {\n",
       "        vertical-align: top;\n",
       "    }\n",
       "\n",
       "    .dataframe thead th {\n",
       "        text-align: right;\n",
       "    }\n",
       "</style>\n",
       "<table border=\"1\" class=\"dataframe\">\n",
       "  <thead>\n",
       "    <tr style=\"text-align: right;\">\n",
       "      <th></th>\n",
       "      <th>gloss_alpha</th>\n",
       "      <th>nc_score</th>\n",
       "      <th>mlf_score</th>\n",
       "      <th>pf_alpha</th>\n",
       "      <th>df_alpha</th>\n",
       "      <th>hss_score</th>\n",
       "      <th>global_score</th>\n",
       "    </tr>\n",
       "  </thead>\n",
       "  <tbody>\n",
       "    <tr>\n",
       "      <th>infection_participation</th>\n",
       "      <td>-0.050621</td>\n",
       "      <td>NaN</td>\n",
       "      <td>0.15379</td>\n",
       "      <td>-0.173826</td>\n",
       "      <td>-0.173243</td>\n",
       "      <td>0.074559</td>\n",
       "      <td>0.07281</td>\n",
       "    </tr>\n",
       "  </tbody>\n",
       "</table>\n",
       "</div>"
      ],
      "text/plain": [
       "                         gloss_alpha nc_score  mlf_score  pf_alpha  df_alpha  \\\n",
       "infection_participation    -0.050621      NaN    0.15379 -0.173826 -0.173243   \n",
       "\n",
       "                         hss_score  global_score  \n",
       "infection_participation   0.074559       0.07281  "
      ]
     },
     "execution_count": 30,
     "metadata": {},
     "output_type": "execute_result"
    }
   ],
   "source": [
    "df"
   ]
  },
  {
   "cell_type": "code",
   "execution_count": null,
   "metadata": {},
   "outputs": [],
   "source": []
  }
 ],
 "metadata": {
  "interpreter": {
   "hash": "23f0df36b9e21e5efa1e1be1bbc2654d2921f1d64451a6633a1922d70ec111e6"
  },
  "kernelspec": {
   "display_name": "Python 3.7.7 ('python3.7.7-env')",
   "language": "python",
   "name": "python3"
  },
  "language_info": {
   "codemirror_mode": {
    "name": "ipython",
    "version": 3
   },
   "file_extension": ".py",
   "mimetype": "text/x-python",
   "name": "python",
   "nbconvert_exporter": "python",
   "pygments_lexer": "ipython3",
   "version": "3.7.7"
  },
  "orig_nbformat": 4
 },
 "nbformat": 4,
 "nbformat_minor": 2
}

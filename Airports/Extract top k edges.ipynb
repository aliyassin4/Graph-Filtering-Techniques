{
 "cells": [
  {
   "cell_type": "code",
   "execution_count": 1,
   "metadata": {},
   "outputs": [],
   "source": [
    "import networkx as nx\n",
    "import pandas as pd\n",
    "\n",
    "nb_dir = os.path.split(os.getcwd())[0]\n",
    "if nb_dir not in sys.path:\n",
    "    sys.path.append(nb_dir)\n",
    "\n",
    "\n",
    "from Utils import evaluation_measures as ev"
   ]
  },
  {
   "cell_type": "code",
   "execution_count": 2,
   "metadata": {},
   "outputs": [],
   "source": [
    "network = 'toy-example'\n",
    "results = pd.read_csv('../Results/All Backbones/' + network + '.csv')\n",
    "labels = pd.read_csv('airports_labels.csv')"
   ]
  },
  {
   "cell_type": "code",
   "execution_count": 3,
   "metadata": {},
   "outputs": [],
   "source": [
    "backbone_names = list(results.columns.values)\n",
    "backbone_names.remove('source')\n",
    "backbone_names.remove('target')\n",
    "backbone_names.remove('weight')"
   ]
  },
  {
   "cell_type": "markdown",
   "metadata": {},
   "source": [
    "# Initialize the Number of Edges to Keep"
   ]
  },
  {
   "cell_type": "code",
   "execution_count": 4,
   "metadata": {},
   "outputs": [],
   "source": [
    "G = nx.from_pandas_edgelist(results[['source', 'target', 'weight']], edge_attr='weight')\n",
    "k=30"
   ]
  },
  {
   "cell_type": "markdown",
   "metadata": {},
   "source": [
    "# Extract Backbones with top K edges"
   ]
  },
  {
   "cell_type": "code",
   "execution_count": 5,
   "metadata": {},
   "outputs": [],
   "source": [
    "backbones = dict()\n",
    "for name in backbone_names:\n",
    "    if 'alpha' in name:\n",
    "            backbone_edges = results[['source', 'target', 'weight', name]].sort_values(by=[name, 'weight'], ascending=[True, False])[:k]\n",
    "    else:\n",
    "        backbone_edges = results[['source', 'target', 'weight', name]].sort_values(by=[name, 'weight'], ascending=[False, False])[:k]\n",
    "            \n",
    "    backbones[name] = nx.from_pandas_edgelist(backbone_edges, edge_attr='weight')"
   ]
  },
  {
   "cell_type": "markdown",
   "metadata": {},
   "source": [
    "# Extract the difference between the backbone and the global threshold"
   ]
  },
  {
   "cell_type": "code",
   "execution_count": 6,
   "metadata": {},
   "outputs": [],
   "source": [
    "# diff_backbones = dict()\n",
    "# common = 1\n",
    "# for i, name in enumerate(backbones.keys()):\n",
    "\n",
    "#     if name != 'global_score':\n",
    "#         common = nx.intersection(backbones[name], backbones['global_score'])\n",
    "#         diff_backbones[name] = ev.get_graph_difference(backbones[name], common)"
   ]
  },
  {
   "cell_type": "code",
   "execution_count": 7,
   "metadata": {},
   "outputs": [],
   "source": [
    "# diff_backbones['common'] = common"
   ]
  },
  {
   "cell_type": "code",
   "execution_count": 8,
   "metadata": {},
   "outputs": [],
   "source": [
    "\n",
    "# for name in diff_backbones:\n",
    "\n",
    "#     backbone_edges = nx.to_pandas_edgelist(diff_backbones[name])\n",
    "\n",
    "#     nodes = list(set(list(set(backbone_edges.source.values)) + list(set(backbone_edges.target.values))))\n",
    "#     backbone_nodes = labels[labels['id'].isin(nodes)]\n",
    "\n",
    "#     df_degree = pd.DataFrame(G.degree(), columns=['id', 'degree'])\n",
    "#     df_degree = df_degree[df_degree['id'].isin(nodes)]\n",
    "\n",
    "#     df_weighted_degree = pd.DataFrame(G.degree(weight='weight'), columns=['id', 'weighted_degree'])\n",
    "#     df_weighted_degree = df_weighted_degree[df_weighted_degree['id'].isin(nodes)]\n",
    "\n",
    "#     backbone_nodes = backbone_nodes.merge(df_degree)\n",
    "#     backbone_nodes = backbone_nodes.merge(df_weighted_degree)\n",
    "\n",
    "#     backbone = nx.from_pandas_edgelist(backbone_edges)\n",
    "#     df_components = pd.DataFrame(columns=['id', 'component'])\n",
    "#     for index, component in enumerate(nx.connected_components(backbone)):\n",
    "#         df_1 = pd.DataFrame(G.subgraph(component).nodes(), columns=['id'])\n",
    "#         df_1['component'] = index + 1\n",
    "#         df_components = pd.concat([df_1, df_components], ignore_index=True)\n",
    "#     backbone_nodes = backbone_nodes.merge(df_components, on='id')\n",
    "\n",
    "#     backbone_edges.to_csv('../Results/All Backbones/toy-example/'+name+'-edges-airports.csv', index=False)\n",
    "#     backbone_nodes.to_csv('../Results/All Backbones/toy-example/'+name+'-nodes-airports.csv', index=False)\n"
   ]
  },
  {
   "cell_type": "code",
   "execution_count": null,
   "metadata": {},
   "outputs": [],
   "source": []
  },
  {
   "cell_type": "code",
   "execution_count": 12,
   "metadata": {},
   "outputs": [],
   "source": [
    "k=int(0.1*results.shape[0])\n",
    "#k= 30\n",
    "G = nx.from_pandas_edgelist(results[['source', 'target', 'weight']], edge_attr='weight')\n",
    "for name in backbone_names:\n",
    "\n",
    "    if 'alpha' in name:\n",
    "        backbone_edges = results[['source', 'target', 'weight', name]].sort_values(by=[name, 'weight'], ascending=[True, False])[:k]\n",
    "\n",
    "    else:\n",
    "        backbone_edges = results[['source', 'target', 'weight', name]].sort_values(by=[name, 'weight'], ascending=[False, False])[:k]\n",
    "\n",
    "    #backbone_edges = results[['source', 'target', 'weight', name]].sort_values(by=name, ascending='alpha' in name)[:k]\n",
    "    nodes = list(set(list(set(backbone_edges.source.values)) + list(set(backbone_edges.target.values))))\n",
    "    backbone_nodes = labels[labels['id'].isin(nodes)]\n",
    "\n",
    "    df_degree = pd.DataFrame(G.degree(), columns=['id', 'degree'])\n",
    "    df_degree = df_degree[df_degree['id'].isin(nodes)]\n",
    "\n",
    "    df_weighted_degree = pd.DataFrame(G.degree(weight='weight'), columns=['id', 'weighted_degree'])\n",
    "    df_weighted_degree = df_weighted_degree[df_weighted_degree['id'].isin(nodes)]\n",
    "\n",
    "    backbone_nodes = backbone_nodes.merge(df_degree)\n",
    "    backbone_nodes = backbone_nodes.merge(df_weighted_degree)\n",
    "\n",
    "    backbone = nx.from_pandas_edgelist(backbone_edges)\n",
    "    df_components = pd.DataFrame(columns=['id', 'component'])\n",
    "    for index, component in enumerate(nx.connected_components(backbone)):\n",
    "        df_1 = pd.DataFrame(G.subgraph(component).nodes(), columns=['id'])\n",
    "        df_1['component'] = index + 1\n",
    "        df_components = pd.concat([df_1, df_components], ignore_index=True)\n",
    "    backbone_nodes = backbone_nodes.merge(df_components, on='id')\n",
    "\n",
    "    backbone_edges.to_csv('../Results/All Backbones/significance/'+network+'/'+name+'-edges.csv', index=False)\n",
    "    backbone_nodes.to_csv('../Results/All Backbones/significance/'+network+'/'+name+'-nodes.csv', index=False)\n",
    "\n",
    "    # backbone_edges.to_csv('../Results/All Backbones/'+network+'/original-edges.csv', index=False)\n",
    "    # backbone_nodes.to_csv('../Results/All Backbones/'+network+'/original-nodes.csv', index=False)\n",
    "    # break\n",
    "    \n"
   ]
  },
  {
   "cell_type": "code",
   "execution_count": null,
   "metadata": {},
   "outputs": [],
   "source": []
  },
  {
   "cell_type": "code",
   "execution_count": 26,
   "metadata": {},
   "outputs": [],
   "source": [
    "G = nx.from_pandas_edgelist(results[['source', 'target', 'weight']], edge_attr='weight')"
   ]
  },
  {
   "cell_type": "code",
   "execution_count": 15,
   "metadata": {},
   "outputs": [],
   "source": [
    "k=int(0.25*results.shape[0])\n",
    "k=30\n",
    "G = nx.from_pandas_edgelist(results[['source', 'target', 'weight']], edge_attr='weight')\n",
    "for name in backbone_names:\n",
    "\n",
    "    if 'alpha' in name:\n",
    "        backbone_edges = results[['source', 'target', 'weight', name]].sort_values(by=[name, 'weight'], ascending=[True, False])[:k]\n",
    "\n",
    "    else:\n",
    "        backbone_edges = results[['source', 'target', 'weight', name]].sort_values(by=[name, 'weight'], ascending=[False, False])[:k]\n",
    "\n",
    "    #backbone_edges = results[['source', 'target', 'weight', name]].sort_values(by=name, ascending='alpha' in name)[:k]\n",
    "    nodes = list(set(list(set(backbone_edges.source.values)) + list(set(backbone_edges.target.values))))\n",
    "    backbone_nodes = labels[labels['id'].isin(nodes)]\n",
    "\n",
    "    df_degree = pd.DataFrame(G.degree(), columns=['id', 'degree'])\n",
    "    df_degree = df_degree[df_degree['id'].isin(nodes)]\n",
    "\n",
    "    df_weighted_degree = pd.DataFrame(G.degree(weight='weight'), columns=['id', 'weighted_degree'])\n",
    "    df_weighted_degree = df_weighted_degree[df_weighted_degree['id'].isin(nodes)]\n",
    "\n",
    "    backbone_nodes = backbone_nodes.merge(df_degree)\n",
    "    backbone_nodes = backbone_nodes.merge(df_weighted_degree)\n",
    "\n",
    "    backbone = nx.from_pandas_edgelist(backbone_edges)\n",
    "    df_components = pd.DataFrame(columns=['id', 'component'])\n",
    "    for index, component in enumerate(nx.connected_components(backbone)):\n",
    "        df_1 = pd.DataFrame(G.subgraph(component).nodes(), columns=['id'])\n",
    "        df_1['component'] = index + 1\n",
    "        df_components = pd.concat([df_1, df_components], ignore_index=True)\n",
    "    backbone_nodes = backbone_nodes.merge(df_components, on='id')\n",
    "\n",
    "    #backbone_edges.to_csv('../Results/All Backbones/toy-example/'+name+'-edges-airports.csv', index=False)\n",
    "    #backbone_nodes.to_csv('../Results/All Backbones/toy-example/'+name+'-nodes-airports.csv', index=False)\n"
   ]
  },
  {
   "cell_type": "code",
   "execution_count": null,
   "metadata": {},
   "outputs": [],
   "source": []
  },
  {
   "cell_type": "code",
   "execution_count": 41,
   "metadata": {},
   "outputs": [
    {
     "data": {
      "text/plain": [
       "dict_keys(['mlf_score', 'df_alpha', 'nc_alpha', 'pf_alpha', 'lans_alpha', 'ecm_alpha', 'global_score', 'gloss_alpha'])"
      ]
     },
     "execution_count": 41,
     "metadata": {},
     "output_type": "execute_result"
    }
   ],
   "source": [
    "backbones.keys()"
   ]
  },
  {
   "cell_type": "code",
   "execution_count": 42,
   "metadata": {},
   "outputs": [],
   "source": [
    "\n",
    "\n",
    "   "
   ]
  },
  {
   "cell_type": "code",
   "execution_count": 34,
   "metadata": {},
   "outputs": [
    {
     "data": {
      "text/plain": [
       "17"
      ]
     },
     "execution_count": 34,
     "metadata": {},
     "output_type": "execute_result"
    }
   ],
   "source": [
    "len(common_backbone)"
   ]
  },
  {
   "cell_type": "code",
   "execution_count": 88,
   "metadata": {},
   "outputs": [
    {
     "ename": "AttributeError",
     "evalue": "'dict' object has no attribute 'has_edge'",
     "output_type": "error",
     "traceback": [
      "\u001b[0;31m---------------------------------------------------------------------------\u001b[0m",
      "\u001b[0;31mAttributeError\u001b[0m                            Traceback (most recent call last)",
      "\u001b[0;32m/var/folders/y_/k_c4gj5x3rv1kmhprsdpc3lm0000gn/T/ipykernel_5602/1001849691.py\u001b[0m in \u001b[0;36m<module>\u001b[0;34m\u001b[0m\n\u001b[1;32m      7\u001b[0m         \u001b[0mbackbone_edges\u001b[0m \u001b[0;34m=\u001b[0m \u001b[0mresults\u001b[0m\u001b[0;34m[\u001b[0m\u001b[0;34m[\u001b[0m\u001b[0;34m'source'\u001b[0m\u001b[0;34m,\u001b[0m \u001b[0;34m'target'\u001b[0m\u001b[0;34m,\u001b[0m \u001b[0;34m'weight'\u001b[0m\u001b[0;34m,\u001b[0m \u001b[0mname\u001b[0m\u001b[0;34m]\u001b[0m\u001b[0;34m]\u001b[0m\u001b[0;34m.\u001b[0m\u001b[0msort_values\u001b[0m\u001b[0;34m(\u001b[0m\u001b[0mby\u001b[0m\u001b[0;34m=\u001b[0m\u001b[0;34m[\u001b[0m\u001b[0mname\u001b[0m\u001b[0;34m,\u001b[0m \u001b[0;34m'weight'\u001b[0m\u001b[0;34m]\u001b[0m\u001b[0;34m,\u001b[0m \u001b[0mascending\u001b[0m\u001b[0;34m=\u001b[0m\u001b[0;34m[\u001b[0m\u001b[0;32mFalse\u001b[0m\u001b[0;34m,\u001b[0m \u001b[0;32mFalse\u001b[0m\u001b[0;34m]\u001b[0m\u001b[0;34m)\u001b[0m\u001b[0;34m[\u001b[0m\u001b[0;34m:\u001b[0m\u001b[0mk\u001b[0m\u001b[0;34m]\u001b[0m\u001b[0;34m\u001b[0m\u001b[0;34m\u001b[0m\u001b[0m\n\u001b[1;32m      8\u001b[0m \u001b[0;34m\u001b[0m\u001b[0m\n\u001b[0;32m----> 9\u001b[0;31m     \u001b[0mreminder_graphs\u001b[0m\u001b[0;34m[\u001b[0m\u001b[0mname\u001b[0m\u001b[0;34m]\u001b[0m \u001b[0;34m=\u001b[0m \u001b[0mev\u001b[0m\u001b[0;34m.\u001b[0m\u001b[0mget_graph_difference\u001b[0m\u001b[0;34m(\u001b[0m\u001b[0mnx\u001b[0m\u001b[0;34m.\u001b[0m\u001b[0mfrom_pandas_edgelist\u001b[0m\u001b[0;34m(\u001b[0m\u001b[0mbackbone_edges\u001b[0m\u001b[0;34m,\u001b[0m \u001b[0medge_attr\u001b[0m\u001b[0;34m=\u001b[0m\u001b[0;34m'weight'\u001b[0m\u001b[0;34m)\u001b[0m\u001b[0;34m,\u001b[0m \u001b[0mcommon_backbone\u001b[0m\u001b[0;34m)\u001b[0m\u001b[0;34m\u001b[0m\u001b[0;34m\u001b[0m\u001b[0m\n\u001b[0m",
      "\u001b[0;32m~/Desktop/Code/Graph-Filtering-Techniques/Utils/evaluation_measures.py\u001b[0m in \u001b[0;36mget_graph_difference\u001b[0;34m(G, H)\u001b[0m\n\u001b[1;32m    156\u001b[0m     \u001b[0mdif\u001b[0m \u001b[0;34m=\u001b[0m \u001b[0mnx\u001b[0m\u001b[0;34m.\u001b[0m\u001b[0mGraph\u001b[0m\u001b[0;34m(\u001b[0m\u001b[0;34m)\u001b[0m\u001b[0;34m\u001b[0m\u001b[0;34m\u001b[0m\u001b[0m\n\u001b[1;32m    157\u001b[0m     \u001b[0;32mfor\u001b[0m \u001b[0medge\u001b[0m \u001b[0;32min\u001b[0m \u001b[0mG\u001b[0m\u001b[0;34m.\u001b[0m\u001b[0medges\u001b[0m\u001b[0;34m(\u001b[0m\u001b[0;34m)\u001b[0m\u001b[0;34m:\u001b[0m\u001b[0;34m\u001b[0m\u001b[0;34m\u001b[0m\u001b[0m\n\u001b[0;32m--> 158\u001b[0;31m         \u001b[0;32mif\u001b[0m \u001b[0;32mnot\u001b[0m \u001b[0mH\u001b[0m\u001b[0;34m.\u001b[0m\u001b[0mhas_edge\u001b[0m\u001b[0;34m(\u001b[0m\u001b[0medge\u001b[0m\u001b[0;34m[\u001b[0m\u001b[0;36m0\u001b[0m\u001b[0;34m]\u001b[0m\u001b[0;34m,\u001b[0m \u001b[0medge\u001b[0m\u001b[0;34m[\u001b[0m\u001b[0;36m1\u001b[0m\u001b[0;34m]\u001b[0m\u001b[0;34m)\u001b[0m\u001b[0;34m:\u001b[0m\u001b[0;34m\u001b[0m\u001b[0;34m\u001b[0m\u001b[0m\n\u001b[0m\u001b[1;32m    159\u001b[0m             \u001b[0mdif\u001b[0m\u001b[0;34m.\u001b[0m\u001b[0madd_edge\u001b[0m\u001b[0;34m(\u001b[0m\u001b[0medge\u001b[0m\u001b[0;34m[\u001b[0m\u001b[0;36m0\u001b[0m\u001b[0;34m]\u001b[0m\u001b[0;34m,\u001b[0m \u001b[0medge\u001b[0m\u001b[0;34m[\u001b[0m\u001b[0;36m1\u001b[0m\u001b[0;34m]\u001b[0m\u001b[0;34m,\u001b[0m \u001b[0mweight\u001b[0m\u001b[0;34m=\u001b[0m\u001b[0mG\u001b[0m\u001b[0;34m[\u001b[0m\u001b[0medge\u001b[0m\u001b[0;34m[\u001b[0m\u001b[0;36m0\u001b[0m\u001b[0;34m]\u001b[0m\u001b[0;34m]\u001b[0m\u001b[0;34m[\u001b[0m\u001b[0medge\u001b[0m\u001b[0;34m[\u001b[0m\u001b[0;36m1\u001b[0m\u001b[0;34m]\u001b[0m\u001b[0;34m]\u001b[0m\u001b[0;34m[\u001b[0m\u001b[0;34m'weight'\u001b[0m\u001b[0;34m]\u001b[0m\u001b[0;34m)\u001b[0m\u001b[0;34m\u001b[0m\u001b[0;34m\u001b[0m\u001b[0m\n\u001b[1;32m    160\u001b[0m     \u001b[0;32mreturn\u001b[0m \u001b[0mdif\u001b[0m\u001b[0;34m\u001b[0m\u001b[0;34m\u001b[0m\u001b[0m\n",
      "\u001b[0;31mAttributeError\u001b[0m: 'dict' object has no attribute 'has_edge'"
     ]
    }
   ],
   "source": [
    "backbone_names\n",
    "reminder_graphs = dict()\n",
    "for name in backbone_names:\n",
    "    if 'alpha' in name:\n",
    "            backbone_edges = results[['source', 'target', 'weight', name]].sort_values(by=[name, 'weight'], ascending=[True, False])[:k]\n",
    "    else:\n",
    "        backbone_edges = results[['source', 'target', 'weight', name]].sort_values(by=[name, 'weight'], ascending=[False, False])[:k]\n",
    "            \n",
    "    reminder_graphs[name] = ev.get_graph_difference(nx.from_pandas_edgelist(backbone_edges, edge_attr='weight'), common_backbone)"
   ]
  },
  {
   "cell_type": "code",
   "execution_count": 28,
   "metadata": {},
   "outputs": [],
   "source": []
  },
  {
   "cell_type": "code",
   "execution_count": 29,
   "metadata": {},
   "outputs": [
    {
     "name": "stdout",
     "output_type": "stream",
     "text": [
      "mlf_score 29\n",
      "df_alpha 29\n",
      "nc_alpha 26\n",
      "pf_alpha 25\n",
      "lans_alpha 36\n",
      "ecm_alpha 38\n",
      "global_score 26\n",
      "gloss_alpha 29\n"
     ]
    }
   ],
   "source": [
    "for gr in reminder_graphs:\n",
    "    print(gr, len(reminder_graphs[gr]))"
   ]
  },
  {
   "cell_type": "code",
   "execution_count": 30,
   "metadata": {},
   "outputs": [
    {
     "name": "stdout",
     "output_type": "stream",
     "text": [
      "mlf_score 29\n",
      "df_alpha 29\n",
      "nc_alpha 26\n",
      "pf_alpha 25\n",
      "lans_alpha 36\n",
      "ecm_alpha 38\n",
      "global_score 26\n",
      "gloss_alpha 30\n"
     ]
    }
   ],
   "source": [
    "for gr in backbones:\n",
    "    print(gr, len(backbones[gr]))"
   ]
  },
  {
   "cell_type": "code",
   "execution_count": 35,
   "metadata": {},
   "outputs": [
    {
     "data": {
      "text/plain": [
       "EdgeView([(736, 700)])"
      ]
     },
     "execution_count": 35,
     "metadata": {},
     "output_type": "execute_result"
    }
   ],
   "source": [
    "common_backbone.edges()"
   ]
  },
  {
   "cell_type": "code",
   "execution_count": 36,
   "metadata": {},
   "outputs": [
    {
     "data": {
      "image/png": "[encoded data removed]",
      "text/plain": [
       "<Figure size 432x288 with 1 Axes>"
      ]
     },
     "metadata": {},
     "output_type": "display_data"
    }
   ],
   "source": [
    "nx.draw_networkx(common_backbone)"
   ]
  },
  {
   "cell_type": "code",
   "execution_count": 5,
   "metadata": {},
   "outputs": [
    {
     "data": {
      "image/png": "[encoded data removed]",
      "text/plain": [
       "<Figure size 432x288 with 1 Axes>"
      ]
     },
     "metadata": {},
     "output_type": "display_data"
    }
   ],
   "source": [
    "g = nx.Graph()\n",
    "\n",
    "g.add_edge(1,2, weight=3)\n",
    "g.add_edge(1,3, weight=4)\n",
    "\n",
    "g.add_edge(2,3, weight=1)\n",
    "\n",
    "nx.draw_networkx(g)"
   ]
  },
  {
   "cell_type": "code",
   "execution_count": 6,
   "metadata": {},
   "outputs": [
    {
     "data": {
      "image/png": "[encoded data removed]",
      "text/plain": [
       "<Figure size 432x288 with 1 Axes>"
      ]
     },
     "metadata": {},
     "output_type": "display_data"
    }
   ],
   "source": [
    "h = nx.Graph()\n",
    "\n",
    "h.add_edge(1,2, weight=3)\n",
    "h.add_edge(1,3, weight=4)\n",
    "\n",
    "h.add_edge(4, 5, weight=0)\n",
    "\n",
    "nx.draw_networkx(h)"
   ]
  },
  {
   "cell_type": "code",
   "execution_count": null,
   "metadata": {},
   "outputs": [],
   "source": []
  },
  {
   "cell_type": "code",
   "execution_count": 10,
   "metadata": {},
   "outputs": [
    {
     "data": {
      "image/png": "[encoded data removed]",
      "text/plain": [
       "<Figure size 432x288 with 1 Axes>"
      ]
     },
     "metadata": {},
     "output_type": "display_data"
    }
   ],
   "source": [
    "nx.draw_networkx()"
   ]
  },
  {
   "cell_type": "code",
   "execution_count": 6,
   "metadata": {},
   "outputs": [],
   "source": [
    "# k=616\n",
    "\n",
    "# G = nx.from_pandas_edgelist(results[['source', 'target', 'weight']], edge_attr='weight')\n",
    "\n",
    "# backbone_nodes = pd.read_csv('../Results/All Backbones/modularit-airports.csv')\n",
    "# backbone_nodes = backbone_nodes.sort_values(by='modularity', ascending=False)\n",
    "# nodes = backbone_nodes['id'][:k].values\n",
    "# backbone_graph = G.subgraph(nodes)\n",
    "\n",
    "# df_degree = pd.DataFrame(G.degree(), columns=['id', 'degree'])\n",
    "# df_degree = df_degree[df_degree['id'].isin(nodes)]\n",
    "\n",
    "# df_weighted_degree = pd.DataFrame(G.degree(weight='weight'), columns=['id', 'weighted_degree'])\n",
    "# df_weighted_degree = df_weighted_degree[df_weighted_degree['id'].isin(nodes)]\n",
    "\n",
    "# backbone_nodes = backbone_nodes.merge(df_degree)\n",
    "# backbone_nodes = backbone_nodes.merge(df_weighted_degree)\n",
    "\n",
    "# df_components = pd.DataFrame(columns=['id', 'component'])\n",
    "# for index, component in enumerate(nx.connected_components(backbone_graph)):\n",
    "#     df_1 = pd.DataFrame(G.subgraph(component).nodes(), columns=['id'])\n",
    "#     df_1['component'] = index + 1\n",
    "#     df_components = pd.concat([df_1, df_components], ignore_index=True)\n",
    "# backbone_nodes = backbone_nodes.merge(df_components, on='id')\n",
    "# backbone_nodes = backbone_nodes.merge(labels)\n",
    "\n",
    "# backbone_edges = nx.to_pandas_edgelist(backbone_graph)\n",
    "\n",
    "# backbone_edges.to_csv('../Results/All Backbones/Airports/modularity-'+str(k)+'-edges-airports.csv', index=False)\n",
    "# backbone_nodes.to_csv('../Results/All Backbones/Airports/modularity-'+str(k)+'-nodes-airports.csv', index=False)\n",
    "\n"
   ]
  },
  {
   "cell_type": "code",
   "execution_count": null,
   "metadata": {},
   "outputs": [],
   "source": []
  }
 ],
 "metadata": {
  "interpreter": {
   "hash": "23f0df36b9e21e5efa1e1be1bbc2654d2921f1d64451a6633a1922d70ec111e6"
  },
  "kernelspec": {
   "display_name": "Python 3.7.7 ('python3.7.7-env')",
   "language": "python",
   "name": "python3"
  },
  "language_info": {
   "codemirror_mode": {
    "name": "ipython",
    "version": 3
   },
   "file_extension": ".py",
   "mimetype": "text/x-python",
   "name": "python",
   "nbconvert_exporter": "python",
   "pygments_lexer": "ipython3",
   "version": "3.7.7"
  },
  "orig_nbformat": 4
 },
 "nbformat": 4,
 "nbformat_minor": 2
}
